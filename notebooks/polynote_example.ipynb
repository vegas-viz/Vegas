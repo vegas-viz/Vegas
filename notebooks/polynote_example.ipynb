{
  "metadata" : {
    "config" : {
      "dependencies" : {
        "scala" : [
          "org.vegas-viz:vegas_2.11:0.3.11"
        ]
      },
      "exclusions" : [
      ],
      "repositories" : [
      ],
      "sparkConfig" : {
        
      }
    }
  },
  "nbformat" : 4,
  "nbformat_minor" : 0,
  "cells" : [
    {
      "cell_type" : "code",
      "execution_count" : 0,
      "metadata" : {
        "cell.metadata.exec_info" : {
          "startTs" : 1583874552263,
          "endTs" : 1583874552425
        },
        "language" : "scala"
      },
      "language" : "scala",
      "source" : [
        "import vegas._\r\n",
        "import vegas.data.External._"
      ],
      "outputs" : [
      ]
    },
    {
      "cell_type" : "markdown",
      "execution_count" : 1,
      "metadata" : {
        "language" : "text"
      },
      "language" : "text",
      "source" : [
        "# A simple bar chart with embedded data.\n",
        "\n",
        "\n"
      ],
      "outputs" : [
      ]
    },
    {
      "cell_type" : "code",
      "execution_count" : 2,
      "metadata" : {
        "cell.metadata.exec_info" : {
          "startTs" : 1583874679377,
          "endTs" : 1583874680171
        },
        "language" : "scala"
      },
      "language" : "scala",
      "source" : [
        "Vegas(\"A simple bar chart with embedded data.\").\r\n",
        "  withData(Seq(\r\n",
        "    Map(\"a\" -> \"A\", \"b\" -> 28), Map(\"a\" -> \"B\", \"b\" -> 55), Map(\"a\" -> \"C\", \"b\" -> 43),\r\n",
        "    Map(\"a\" -> \"D\", \"b\" -> 91), Map(\"a\" -> \"E\", \"b\" -> 81), Map(\"a\" -> \"F\", \"b\" -> 53),\r\n",
        "    Map(\"a\" -> \"G\", \"b\" -> 19), Map(\"a\" -> \"H\", \"b\" -> 87), Map(\"a\" -> \"I\", \"b\" -> 52)\r\n",
        "  )).\r\n",
        "  encodeX(\"a\", Ordinal).\r\n",
        "  encodeY(\"b\", Quantitative).\r\n",
        "  mark(Bar).\r\n",
        "  show"
      ],
      "outputs" : [
        {
          "data" : {
            "text/html" : [
              "\n",
              "  <iframe id=\"frame-vegas-0350d3ab-0f8e-4f2d-b9cb-04fbc573bd79\" sandbox=\"allow-scripts allow-same-origin\" style=\"border: none; width: 100%\" srcdoc=\"&lt;html&gt;\n",
              "  &lt;head&gt;\n",
              "    &lt;script src=&quot;https://cdn.jsdelivr.net/webjars/org.webjars.bower/d3/3.5.17/d3.min.js&quot; charset=&quot;utf-8&quot;&gt;&lt;/script&gt;\n",
              "&lt;script src=&quot;https://cdn.jsdelivr.net/webjars/org.webjars.bower/vega/2.6.3/vega.min.js&quot; charset=&quot;utf-8&quot;&gt;&lt;/script&gt;\n",
              "&lt;script src=&quot;https://cdn.jsdelivr.net/webjars/org.webjars.bower/vega-lite/1.2.0/vega-lite.min.js&quot; charset=&quot;utf-8&quot;&gt;&lt;/script&gt;\n",
              "&lt;script src=&quot;https://vega.github.io/vega-editor/vendor/vega-embed.js&quot; charset=&quot;utf-8&quot;&gt;&lt;/script&gt;\n",
              "  &lt;/head&gt;\n",
              "  &lt;body&gt;\n",
              " &lt;div id='vegas-0350d3ab-0f8e-4f2d-b9cb-04fbc573bd79'&gt;&lt;/div&gt;\n",
              " &lt;script&gt;\n",
              "   var embedSpec = {\n",
              "     mode: &quot;vega-lite&quot;,\n",
              "     spec: {\n",
              "  &quot;mark&quot; : &quot;bar&quot;,\n",
              "  &quot;encoding&quot; : {\n",
              "    &quot;x&quot; : {\n",
              "      &quot;field&quot; : &quot;a&quot;,\n",
              "      &quot;type&quot; : &quot;ordinal&quot;\n",
              "    },\n",
              "    &quot;y&quot; : {\n",
              "      &quot;field&quot; : &quot;b&quot;,\n",
              "      &quot;type&quot; : &quot;quantitative&quot;\n",
              "    }\n",
              "  },\n",
              "  &quot;description&quot; : &quot;A simple bar chart with embedded data.&quot;,\n",
              "  &quot;data&quot; : {\n",
              "    &quot;values&quot; : [\n",
              "      {\n",
              "        &quot;a&quot; : &quot;A&quot;,\n",
              "        &quot;b&quot; : 28\n",
              "      },\n",
              "      {\n",
              "        &quot;a&quot; : &quot;B&quot;,\n",
              "        &quot;b&quot; : 55\n",
              "      },\n",
              "      {\n",
              "        &quot;a&quot; : &quot;C&quot;,\n",
              "        &quot;b&quot; : 43\n",
              "      },\n",
              "      {\n",
              "        &quot;a&quot; : &quot;D&quot;,\n",
              "        &quot;b&quot; : 91\n",
              "      },\n",
              "      {\n",
              "        &quot;a&quot; : &quot;E&quot;,\n",
              "        &quot;b&quot; : 81\n",
              "      },\n",
              "      {\n",
              "        &quot;a&quot; : &quot;F&quot;,\n",
              "        &quot;b&quot; : 53\n",
              "      },\n",
              "      {\n",
              "        &quot;a&quot; : &quot;G&quot;,\n",
              "        &quot;b&quot; : 19\n",
              "      },\n",
              "      {\n",
              "        &quot;a&quot; : &quot;H&quot;,\n",
              "        &quot;b&quot; : 87\n",
              "      },\n",
              "      {\n",
              "        &quot;a&quot; : &quot;I&quot;,\n",
              "        &quot;b&quot; : 52\n",
              "      }\n",
              "    ]\n",
              "  }\n",
              "}\n",
              "   }\n",
              "   vg.embed(&quot;#vegas-0350d3ab-0f8e-4f2d-b9cb-04fbc573bd79&quot;, embedSpec, function(error, result) {});\n",
              " &lt;/script&gt;\n",
              "\n",
              "    &lt;/body&gt;\n",
              "&lt;/html&gt;\"></iframe>\n",
              "  <script>\n",
              "    (function() {\n",
              "      function resizeIFrame(el, k) {\n",
              "        var height = el.contentWindow.document.body.scrollHeight || '400'; // Fallback in case of no scroll height\n",
              "        el.style.height = height + 'px';\n",
              "        if (k <= 10) { setTimeout(function() { resizeIFrame(el, k+1) }, 1000 + (k * 250)) };\n",
              "      }\n",
              "      resizeIFrame(document.querySelector('#frame-vegas-0350d3ab-0f8e-4f2d-b9cb-04fbc573bd79'), 1);\n",
              "    })(); // IIFE\n",
              "  </script>\n",
              "    "
            ]
          },
          "output_type" : "display_data"
        }
      ]
    },
    {
      "cell_type" : "markdown",
      "execution_count" : 3,
      "metadata" : {
        "language" : "text"
      },
      "language" : "text",
      "source" : [
        "# A bar chart showing the US population distribution of age groups in 2000.\n",
        "\n",
        "\n"
      ],
      "outputs" : [
      ]
    },
    {
      "cell_type" : "code",
      "execution_count" : 4,
      "metadata" : {
        "cell.metadata.exec_info" : {
          "startTs" : 1583874845571,
          "endTs" : 1583874846018
        },
        "language" : "scala"
      },
      "language" : "scala",
      "source" : [
        "Vegas(\"A bar chart showing the US population distribution of age groups in 2000.\").\r\n",
        "  withURL(Population).\r\n",
        "  mark(Bar).\r\n",
        "  filter(\"datum.year == 2000\").\r\n",
        "  encodeY(\"age\", Ordinal, scale=Scale(bandSize=17.0)).\r\n",
        "  encodeX(\"people\", Quantitative, aggregate=AggOps.Sum, axis=Axis(title=\"population\")).\r\n",
        "  show"
      ],
      "outputs" : [
        {
          "data" : {
            "text/html" : [
              "\n",
              "  <iframe id=\"frame-vegas-e62e3bb4-f164-4eea-92e2-e3c202d7dc1f\" sandbox=\"allow-scripts allow-same-origin\" style=\"border: none; width: 100%\" srcdoc=\"&lt;html&gt;\n",
              "  &lt;head&gt;\n",
              "    &lt;script src=&quot;https://cdn.jsdelivr.net/webjars/org.webjars.bower/d3/3.5.17/d3.min.js&quot; charset=&quot;utf-8&quot;&gt;&lt;/script&gt;\n",
              "&lt;script src=&quot;https://cdn.jsdelivr.net/webjars/org.webjars.bower/vega/2.6.3/vega.min.js&quot; charset=&quot;utf-8&quot;&gt;&lt;/script&gt;\n",
              "&lt;script src=&quot;https://cdn.jsdelivr.net/webjars/org.webjars.bower/vega-lite/1.2.0/vega-lite.min.js&quot; charset=&quot;utf-8&quot;&gt;&lt;/script&gt;\n",
              "&lt;script src=&quot;https://vega.github.io/vega-editor/vendor/vega-embed.js&quot; charset=&quot;utf-8&quot;&gt;&lt;/script&gt;\n",
              "  &lt;/head&gt;\n",
              "  &lt;body&gt;\n",
              " &lt;div id='vegas-e62e3bb4-f164-4eea-92e2-e3c202d7dc1f'&gt;&lt;/div&gt;\n",
              " &lt;script&gt;\n",
              "   var embedSpec = {\n",
              "     mode: &quot;vega-lite&quot;,\n",
              "     spec: {\n",
              "  &quot;mark&quot; : &quot;bar&quot;,\n",
              "  &quot;encoding&quot; : {\n",
              "    &quot;x&quot; : {\n",
              "      &quot;axis&quot; : {\n",
              "        &quot;title&quot; : &quot;population&quot;\n",
              "      },\n",
              "      &quot;field&quot; : &quot;people&quot;,\n",
              "      &quot;type&quot; : &quot;quantitative&quot;,\n",
              "      &quot;aggregate&quot; : &quot;sum&quot;\n",
              "    },\n",
              "    &quot;y&quot; : {\n",
              "      &quot;scale&quot; : {\n",
              "        &quot;bandSize&quot; : 17.0\n",
              "      },\n",
              "      &quot;field&quot; : &quot;age&quot;,\n",
              "      &quot;type&quot; : &quot;ordinal&quot;\n",
              "    }\n",
              "  },\n",
              "  &quot;description&quot; : &quot;A bar chart showing the US population distribution of age groups in 2000.&quot;,\n",
              "  &quot;data&quot; : {\n",
              "    &quot;url&quot; : &quot;https://vega.github.io/vega-editor/app/data/population.json&quot;\n",
              "  },\n",
              "  &quot;transform&quot; : {\n",
              "    &quot;filter&quot; : &quot;datum.year == 2000&quot;\n",
              "  }\n",
              "}\n",
              "   }\n",
              "   vg.embed(&quot;#vegas-e62e3bb4-f164-4eea-92e2-e3c202d7dc1f&quot;, embedSpec, function(error, result) {});\n",
              " &lt;/script&gt;\n",
              "\n",
              "    &lt;/body&gt;\n",
              "&lt;/html&gt;\"></iframe>\n",
              "  <script>\n",
              "    (function() {\n",
              "      function resizeIFrame(el, k) {\n",
              "        var height = el.contentWindow.document.body.scrollHeight || '400'; // Fallback in case of no scroll height\n",
              "        el.style.height = height + 'px';\n",
              "        if (k <= 10) { setTimeout(function() { resizeIFrame(el, k+1) }, 1000 + (k * 250)) };\n",
              "      }\n",
              "      resizeIFrame(document.querySelector('#frame-vegas-e62e3bb4-f164-4eea-92e2-e3c202d7dc1f'), 1);\n",
              "    })(); // IIFE\n",
              "  </script>\n",
              "    "
            ]
          },
          "output_type" : "display_data"
        }
      ]
    },
    {
      "cell_type" : "code",
      "execution_count" : 5,
      "metadata" : {
        "cell.metadata.exec_info" : {
          "startTs" : 1583874883506,
          "endTs" : 1583874884547
        },
        "language" : "scala"
      },
      "language" : "scala",
      "source" : [
        "Vegas().\r\n",
        "  withURL(Population).\r\n",
        "  mark(Bar).\r\n",
        "  addTransformCalculation(\"gender\", \"\"\"datum.sex == 2 ? \"Female\" : \"Male\"\"\"\").\r\n",
        "  filter(\"datum.year == 2000\").\r\n",
        "  encodeColumn(\"age\", Ord, scale=Scale(padding=4.0), axis=Axis(orient=Orient.Bottom, axisWidth=1.0, offset= -8.0)).\r\n",
        "  encodeY(\"people\", Quantitative, aggregate=AggOps.Sum, axis=Axis(title=\"population\", grid=false)).\r\n",
        "  encodeX(\"gender\", Nominal, scale=Scale(bandSize = 6.0), hideAxis=true).\r\n",
        "  encodeColor(\"gender\", Nominal, scale=Scale(rangeNominals=List(\"#EA98D2\", \"#659CCA\"))).\r\n",
        "  configFacet(cell=CellConfig(strokeWidth = 0.0)).\r\n",
        "  show"
      ],
      "outputs" : [
        {
          "data" : {
            "text/html" : [
              "\n",
              "  <iframe id=\"frame-vegas-b5b94f98-2700-4f77-ac89-c997da47f6f4\" sandbox=\"allow-scripts allow-same-origin\" style=\"border: none; width: 100%\" srcdoc=\"&lt;html&gt;\n",
              "  &lt;head&gt;\n",
              "    &lt;script src=&quot;https://cdn.jsdelivr.net/webjars/org.webjars.bower/d3/3.5.17/d3.min.js&quot; charset=&quot;utf-8&quot;&gt;&lt;/script&gt;\n",
              "&lt;script src=&quot;https://cdn.jsdelivr.net/webjars/org.webjars.bower/vega/2.6.3/vega.min.js&quot; charset=&quot;utf-8&quot;&gt;&lt;/script&gt;\n",
              "&lt;script src=&quot;https://cdn.jsdelivr.net/webjars/org.webjars.bower/vega-lite/1.2.0/vega-lite.min.js&quot; charset=&quot;utf-8&quot;&gt;&lt;/script&gt;\n",
              "&lt;script src=&quot;https://vega.github.io/vega-editor/vendor/vega-embed.js&quot; charset=&quot;utf-8&quot;&gt;&lt;/script&gt;\n",
              "  &lt;/head&gt;\n",
              "  &lt;body&gt;\n",
              " &lt;div id='vegas-b5b94f98-2700-4f77-ac89-c997da47f6f4'&gt;&lt;/div&gt;\n",
              " &lt;script&gt;\n",
              "   var embedSpec = {\n",
              "     mode: &quot;vega-lite&quot;,\n",
              "     spec: {\n",
              "  &quot;mark&quot; : &quot;bar&quot;,\n",
              "  &quot;encoding&quot; : {\n",
              "    &quot;column&quot; : {\n",
              "      &quot;axis&quot; : {\n",
              "        &quot;orient&quot; : &quot;bottom&quot;,\n",
              "        &quot;axisWidth&quot; : 1.0,\n",
              "        &quot;offset&quot; : -8.0\n",
              "      },\n",
              "      &quot;scale&quot; : {\n",
              "        &quot;padding&quot; : 4.0\n",
              "      },\n",
              "      &quot;field&quot; : &quot;age&quot;,\n",
              "      &quot;type&quot; : &quot;ordinal&quot;\n",
              "    },\n",
              "    &quot;x&quot; : {\n",
              "      &quot;axis&quot; : false,\n",
              "      &quot;scale&quot; : {\n",
              "        &quot;bandSize&quot; : 6.0\n",
              "      },\n",
              "      &quot;field&quot; : &quot;gender&quot;,\n",
              "      &quot;type&quot; : &quot;nominal&quot;\n",
              "    },\n",
              "    &quot;y&quot; : {\n",
              "      &quot;axis&quot; : {\n",
              "        &quot;title&quot; : &quot;population&quot;,\n",
              "        &quot;grid&quot; : false\n",
              "      },\n",
              "      &quot;field&quot; : &quot;people&quot;,\n",
              "      &quot;type&quot; : &quot;quantitative&quot;,\n",
              "      &quot;aggregate&quot; : &quot;sum&quot;\n",
              "    },\n",
              "    &quot;color&quot; : {\n",
              "      &quot;scale&quot; : {\n",
              "        &quot;range&quot; : [\n",
              "          &quot;#EA98D2&quot;,\n",
              "          &quot;#659CCA&quot;\n",
              "        ]\n",
              "      },\n",
              "      &quot;field&quot; : &quot;gender&quot;,\n",
              "      &quot;type&quot; : &quot;nominal&quot;\n",
              "    }\n",
              "  },\n",
              "  &quot;data&quot; : {\n",
              "    &quot;url&quot; : &quot;https://vega.github.io/vega-editor/app/data/population.json&quot;\n",
              "  },\n",
              "  &quot;transform&quot; : {\n",
              "    &quot;filter&quot; : &quot;datum.year == 2000&quot;,\n",
              "    &quot;calculate&quot; : [\n",
              "      {\n",
              "        &quot;field&quot; : &quot;gender&quot;,\n",
              "        &quot;expr&quot; : &quot;datum.sex == 2 ? \\&quot;Female\\&quot; : \\&quot;Male\\&quot;&quot;\n",
              "      }\n",
              "    ]\n",
              "  },\n",
              "  &quot;config&quot; : {\n",
              "    &quot;facet&quot; : {\n",
              "      &quot;cell&quot; : {\n",
              "        &quot;strokeWidth&quot; : 0.0\n",
              "      }\n",
              "    }\n",
              "  }\n",
              "}\n",
              "   }\n",
              "   vg.embed(&quot;#vegas-b5b94f98-2700-4f77-ac89-c997da47f6f4&quot;, embedSpec, function(error, result) {});\n",
              " &lt;/script&gt;\n",
              "\n",
              "    &lt;/body&gt;\n",
              "&lt;/html&gt;\"></iframe>\n",
              "  <script>\n",
              "    (function() {\n",
              "      function resizeIFrame(el, k) {\n",
              "        var height = el.contentWindow.document.body.scrollHeight || '400'; // Fallback in case of no scroll height\n",
              "        el.style.height = height + 'px';\n",
              "        if (k <= 10) { setTimeout(function() { resizeIFrame(el, k+1) }, 1000 + (k * 250)) };\n",
              "      }\n",
              "      resizeIFrame(document.querySelector('#frame-vegas-b5b94f98-2700-4f77-ac89-c997da47f6f4'), 1);\n",
              "    })(); // IIFE\n",
              "  </script>\n",
              "    "
            ]
          },
          "output_type" : "display_data"
        }
      ]
    },
    {
      "cell_type" : "code",
      "execution_count" : 6,
      "metadata" : {
        "cell.metadata.exec_info" : {
          "startTs" : 1583874944941,
          "endTs" : 1583874945271
        },
        "language" : "scala"
      },
      "language" : "scala",
      "source" : [
        "Vegas().\r\n",
        "  withURL(Unemployment).\r\n",
        "  mark(Area).\r\n",
        "  encodeX(\"date\", Temp, timeUnit=TimeUnit.Yearmonth, scale=Scale(nice=Nice.Month),\r\n",
        "    axis=Axis(axisWidth=0.0, format=\"%Y\", labelAngle=0.0)).\r\n",
        "  encodeY(\"count\", Quantitative, aggregate=AggOps.Sum).\r\n",
        "  configCell(width=300.0, height=200.0).\r\n",
        "  show"
      ],
      "outputs" : [
        {
          "data" : {
            "text/html" : [
              "\n",
              "  <iframe id=\"frame-vegas-13766710-e81e-45e8-9708-d27605c01c31\" sandbox=\"allow-scripts allow-same-origin\" style=\"border: none; width: 100%\" srcdoc=\"&lt;html&gt;\n",
              "  &lt;head&gt;\n",
              "    &lt;script src=&quot;https://cdn.jsdelivr.net/webjars/org.webjars.bower/d3/3.5.17/d3.min.js&quot; charset=&quot;utf-8&quot;&gt;&lt;/script&gt;\n",
              "&lt;script src=&quot;https://cdn.jsdelivr.net/webjars/org.webjars.bower/vega/2.6.3/vega.min.js&quot; charset=&quot;utf-8&quot;&gt;&lt;/script&gt;\n",
              "&lt;script src=&quot;https://cdn.jsdelivr.net/webjars/org.webjars.bower/vega-lite/1.2.0/vega-lite.min.js&quot; charset=&quot;utf-8&quot;&gt;&lt;/script&gt;\n",
              "&lt;script src=&quot;https://vega.github.io/vega-editor/vendor/vega-embed.js&quot; charset=&quot;utf-8&quot;&gt;&lt;/script&gt;\n",
              "  &lt;/head&gt;\n",
              "  &lt;body&gt;\n",
              " &lt;div id='vegas-13766710-e81e-45e8-9708-d27605c01c31'&gt;&lt;/div&gt;\n",
              " &lt;script&gt;\n",
              "   var embedSpec = {\n",
              "     mode: &quot;vega-lite&quot;,\n",
              "     spec: {\n",
              "  &quot;mark&quot; : &quot;area&quot;,\n",
              "  &quot;encoding&quot; : {\n",
              "    &quot;x&quot; : {\n",
              "      &quot;axis&quot; : {\n",
              "        &quot;labelAngle&quot; : 0.0,\n",
              "        &quot;format&quot; : &quot;%Y&quot;,\n",
              "        &quot;axisWidth&quot; : 0.0\n",
              "      },\n",
              "      &quot;scale&quot; : {\n",
              "        &quot;nice&quot; : &quot;month&quot;\n",
              "      },\n",
              "      &quot;field&quot; : &quot;date&quot;,\n",
              "      &quot;type&quot; : &quot;temporal&quot;,\n",
              "      &quot;timeUnit&quot; : &quot;yearmonth&quot;\n",
              "    },\n",
              "    &quot;y&quot; : {\n",
              "      &quot;field&quot; : &quot;count&quot;,\n",
              "      &quot;type&quot; : &quot;quantitative&quot;,\n",
              "      &quot;aggregate&quot; : &quot;sum&quot;\n",
              "    }\n",
              "  },\n",
              "  &quot;data&quot; : {\n",
              "    &quot;url&quot; : &quot;https://vega.github.io/vega-editor/app/data/unemployment-across-industries.json&quot;\n",
              "  },\n",
              "  &quot;config&quot; : {\n",
              "    &quot;cell&quot; : {\n",
              "      &quot;width&quot; : 300.0,\n",
              "      &quot;height&quot; : 200.0\n",
              "    }\n",
              "  }\n",
              "}\n",
              "   }\n",
              "   vg.embed(&quot;#vegas-13766710-e81e-45e8-9708-d27605c01c31&quot;, embedSpec, function(error, result) {});\n",
              " &lt;/script&gt;\n",
              "\n",
              "    &lt;/body&gt;\n",
              "&lt;/html&gt;\"></iframe>\n",
              "  <script>\n",
              "    (function() {\n",
              "      function resizeIFrame(el, k) {\n",
              "        var height = el.contentWindow.document.body.scrollHeight || '400'; // Fallback in case of no scroll height\n",
              "        el.style.height = height + 'px';\n",
              "        if (k <= 10) { setTimeout(function() { resizeIFrame(el, k+1) }, 1000 + (k * 250)) };\n",
              "      }\n",
              "      resizeIFrame(document.querySelector('#frame-vegas-13766710-e81e-45e8-9708-d27605c01c31'), 1);\n",
              "    })(); // IIFE\n",
              "  </script>\n",
              "    "
            ]
          },
          "output_type" : "display_data"
        }
      ]
    },
    {
      "cell_type" : "code",
      "execution_count" : 7,
      "metadata" : {
        "cell.metadata.exec_info" : {
          "startTs" : 1583874977615,
          "endTs" : 1583874978127
        },
        "language" : "scala"
      },
      "language" : "scala",
      "source" : [
        "Vegas().\r\n",
        "  withURL(Population).\r\n",
        "  filter(\"datum.year == 2000\").\r\n",
        "  addTransform(\"gender\", \"datum.sex == 2 ? \\\"Female\\\" : \\\"Male\\\"\").\r\n",
        "  mark(Bar).\r\n",
        "  encodeY(\"people\", Quant, AggOps.Sum, axis=Axis(title=\"population\")).\r\n",
        "  encodeX(\"age\", Ord, scale=Scale(bandSize= 17.0)).\r\n",
        "  encodeColor(\"gender\", Nominal, scale=Scale(rangeNominals=List(\"#EA98D2\", \"#659CCA\"))).\r\n",
        "  configMark(stacked=StackOffset.Normalize).\r\n",
        "  show"
      ],
      "outputs" : [
        {
          "data" : {
            "text/html" : [
              "\n",
              "  <iframe id=\"frame-vegas-3e5b1598-b847-476a-90d6-94e82ca7db19\" sandbox=\"allow-scripts allow-same-origin\" style=\"border: none; width: 100%\" srcdoc=\"&lt;html&gt;\n",
              "  &lt;head&gt;\n",
              "    &lt;script src=&quot;https://cdn.jsdelivr.net/webjars/org.webjars.bower/d3/3.5.17/d3.min.js&quot; charset=&quot;utf-8&quot;&gt;&lt;/script&gt;\n",
              "&lt;script src=&quot;https://cdn.jsdelivr.net/webjars/org.webjars.bower/vega/2.6.3/vega.min.js&quot; charset=&quot;utf-8&quot;&gt;&lt;/script&gt;\n",
              "&lt;script src=&quot;https://cdn.jsdelivr.net/webjars/org.webjars.bower/vega-lite/1.2.0/vega-lite.min.js&quot; charset=&quot;utf-8&quot;&gt;&lt;/script&gt;\n",
              "&lt;script src=&quot;https://vega.github.io/vega-editor/vendor/vega-embed.js&quot; charset=&quot;utf-8&quot;&gt;&lt;/script&gt;\n",
              "  &lt;/head&gt;\n",
              "  &lt;body&gt;\n",
              " &lt;div id='vegas-3e5b1598-b847-476a-90d6-94e82ca7db19'&gt;&lt;/div&gt;\n",
              " &lt;script&gt;\n",
              "   var embedSpec = {\n",
              "     mode: &quot;vega-lite&quot;,\n",
              "     spec: {\n",
              "  &quot;mark&quot; : &quot;bar&quot;,\n",
              "  &quot;encoding&quot; : {\n",
              "    &quot;x&quot; : {\n",
              "      &quot;scale&quot; : {\n",
              "        &quot;bandSize&quot; : 17.0\n",
              "      },\n",
              "      &quot;field&quot; : &quot;age&quot;,\n",
              "      &quot;type&quot; : &quot;ordinal&quot;\n",
              "    },\n",
              "    &quot;y&quot; : {\n",
              "      &quot;axis&quot; : {\n",
              "        &quot;title&quot; : &quot;population&quot;\n",
              "      },\n",
              "      &quot;field&quot; : &quot;people&quot;,\n",
              "      &quot;type&quot; : &quot;quantitative&quot;,\n",
              "      &quot;aggregate&quot; : &quot;sum&quot;\n",
              "    },\n",
              "    &quot;color&quot; : {\n",
              "      &quot;scale&quot; : {\n",
              "        &quot;range&quot; : [\n",
              "          &quot;#EA98D2&quot;,\n",
              "          &quot;#659CCA&quot;\n",
              "        ]\n",
              "      },\n",
              "      &quot;field&quot; : &quot;gender&quot;,\n",
              "      &quot;type&quot; : &quot;nominal&quot;\n",
              "    }\n",
              "  },\n",
              "  &quot;data&quot; : {\n",
              "    &quot;url&quot; : &quot;https://vega.github.io/vega-editor/app/data/population.json&quot;\n",
              "  },\n",
              "  &quot;transform&quot; : {\n",
              "    &quot;filter&quot; : &quot;datum.year == 2000&quot;,\n",
              "    &quot;calculate&quot; : [\n",
              "      {\n",
              "        &quot;field&quot; : &quot;gender&quot;,\n",
              "        &quot;expr&quot; : &quot;datum.sex == 2 ? \\&quot;Female\\&quot; : \\&quot;Male\\&quot;&quot;\n",
              "      }\n",
              "    ]\n",
              "  },\n",
              "  &quot;config&quot; : {\n",
              "    &quot;mark&quot; : {\n",
              "      &quot;stacked&quot; : &quot;normalize&quot;\n",
              "    }\n",
              "  }\n",
              "}\n",
              "   }\n",
              "   vg.embed(&quot;#vegas-3e5b1598-b847-476a-90d6-94e82ca7db19&quot;, embedSpec, function(error, result) {});\n",
              " &lt;/script&gt;\n",
              "\n",
              "    &lt;/body&gt;\n",
              "&lt;/html&gt;\"></iframe>\n",
              "  <script>\n",
              "    (function() {\n",
              "      function resizeIFrame(el, k) {\n",
              "        var height = el.contentWindow.document.body.scrollHeight || '400'; // Fallback in case of no scroll height\n",
              "        el.style.height = height + 'px';\n",
              "        if (k <= 10) { setTimeout(function() { resizeIFrame(el, k+1) }, 1000 + (k * 250)) };\n",
              "      }\n",
              "      resizeIFrame(document.querySelector('#frame-vegas-3e5b1598-b847-476a-90d6-94e82ca7db19'), 1);\n",
              "    })(); // IIFE\n",
              "  </script>\n",
              "    "
            ]
          },
          "output_type" : "display_data"
        }
      ]
    },
    {
      "cell_type" : "markdown",
      "execution_count" : 8,
      "metadata" : {
        "language" : "text"
      },
      "language" : "text",
      "source" : [
        "# A trellis scatterplot showing Horsepower and Miles per gallons, faceted by binned values of Acceleration.\n",
        "\n",
        "\n"
      ],
      "outputs" : [
      ]
    },
    {
      "cell_type" : "code",
      "execution_count" : 9,
      "metadata" : {
        "cell.metadata.exec_info" : {
          "startTs" : 1583875014364,
          "endTs" : 1583875014596
        },
        "language" : "scala"
      },
      "language" : "scala",
      "source" : [
        "Vegas(\"A trellis scatterplot showing Horsepower and Miles per gallons, faceted by binned values of Acceleration.\").\r\n",
        "  withURL(Cars).\r\n",
        "  mark(Point).\r\n",
        "  encodeX(\"Horsepower\", Quantitative).\r\n",
        "  encodeY(\"Miles_per_Gallon\", Quantitative).\r\n",
        "  encodeRow(\"Acceleration\", Quantitative, enableBin=true).\r\n",
        "  show"
      ],
      "outputs" : [
        {
          "data" : {
            "text/html" : [
              "\n",
              "  <iframe id=\"frame-vegas-296faf4c-51aa-4c33-a085-a1aec1584f9e\" sandbox=\"allow-scripts allow-same-origin\" style=\"border: none; width: 100%\" srcdoc=\"&lt;html&gt;\n",
              "  &lt;head&gt;\n",
              "    &lt;script src=&quot;https://cdn.jsdelivr.net/webjars/org.webjars.bower/d3/3.5.17/d3.min.js&quot; charset=&quot;utf-8&quot;&gt;&lt;/script&gt;\n",
              "&lt;script src=&quot;https://cdn.jsdelivr.net/webjars/org.webjars.bower/vega/2.6.3/vega.min.js&quot; charset=&quot;utf-8&quot;&gt;&lt;/script&gt;\n",
              "&lt;script src=&quot;https://cdn.jsdelivr.net/webjars/org.webjars.bower/vega-lite/1.2.0/vega-lite.min.js&quot; charset=&quot;utf-8&quot;&gt;&lt;/script&gt;\n",
              "&lt;script src=&quot;https://vega.github.io/vega-editor/vendor/vega-embed.js&quot; charset=&quot;utf-8&quot;&gt;&lt;/script&gt;\n",
              "  &lt;/head&gt;\n",
              "  &lt;body&gt;\n",
              " &lt;div id='vegas-296faf4c-51aa-4c33-a085-a1aec1584f9e'&gt;&lt;/div&gt;\n",
              " &lt;script&gt;\n",
              "   var embedSpec = {\n",
              "     mode: &quot;vega-lite&quot;,\n",
              "     spec: {\n",
              "  &quot;mark&quot; : &quot;point&quot;,\n",
              "  &quot;encoding&quot; : {\n",
              "    &quot;row&quot; : {\n",
              "      &quot;field&quot; : &quot;Acceleration&quot;,\n",
              "      &quot;type&quot; : &quot;quantitative&quot;,\n",
              "      &quot;bin&quot; : true\n",
              "    },\n",
              "    &quot;x&quot; : {\n",
              "      &quot;field&quot; : &quot;Horsepower&quot;,\n",
              "      &quot;type&quot; : &quot;quantitative&quot;\n",
              "    },\n",
              "    &quot;y&quot; : {\n",
              "      &quot;field&quot; : &quot;Miles_per_Gallon&quot;,\n",
              "      &quot;type&quot; : &quot;quantitative&quot;\n",
              "    }\n",
              "  },\n",
              "  &quot;description&quot; : &quot;A trellis scatterplot showing Horsepower and Miles per gallons, faceted by binned values of Acceleration.&quot;,\n",
              "  &quot;data&quot; : {\n",
              "    &quot;url&quot; : &quot;https://vega.github.io/vega-editor/app/data/cars.json&quot;\n",
              "  }\n",
              "}\n",
              "   }\n",
              "   vg.embed(&quot;#vegas-296faf4c-51aa-4c33-a085-a1aec1584f9e&quot;, embedSpec, function(error, result) {});\n",
              " &lt;/script&gt;\n",
              "\n",
              "    &lt;/body&gt;\n",
              "&lt;/html&gt;\"></iframe>\n",
              "  <script>\n",
              "    (function() {\n",
              "      function resizeIFrame(el, k) {\n",
              "        var height = el.contentWindow.document.body.scrollHeight || '400'; // Fallback in case of no scroll height\n",
              "        el.style.height = height + 'px';\n",
              "        if (k <= 10) { setTimeout(function() { resizeIFrame(el, k+1) }, 1000 + (k * 250)) };\n",
              "      }\n",
              "      resizeIFrame(document.querySelector('#frame-vegas-296faf4c-51aa-4c33-a085-a1aec1584f9e'), 1);\n",
              "    })(); // IIFE\n",
              "  </script>\n",
              "    "
            ]
          },
          "output_type" : "display_data"
        }
      ]
    },
    {
      "cell_type" : "code",
      "execution_count" : 10,
      "metadata" : {
        "cell.metadata.exec_info" : {
          "startTs" : 1583875036198,
          "endTs" : 1583875036451
        },
        "language" : "scala"
      },
      "language" : "scala",
      "source" : [
        "Vegas().\r\n",
        "  withURL(Movies).\r\n",
        "  mark(Point).\r\n",
        "  encodeX(\"IMDB_Rating\", Quantitative, bin=Bin(maxbins=10.0)).\r\n",
        "  encodeY(\"Rotten_Tomatoes_Rating\", Quantitative, bin=Bin(maxbins=10.0)).\r\n",
        "  encodeSize(aggregate=AggOps.Count, field=\"*\", dataType=Quantitative).\r\n",
        "  show"
      ],
      "outputs" : [
        {
          "data" : {
            "text/html" : [
              "\n",
              "  <iframe id=\"frame-vegas-9fc44e85-6280-42da-aee2-907827b73bf0\" sandbox=\"allow-scripts allow-same-origin\" style=\"border: none; width: 100%\" srcdoc=\"&lt;html&gt;\n",
              "  &lt;head&gt;\n",
              "    &lt;script src=&quot;https://cdn.jsdelivr.net/webjars/org.webjars.bower/d3/3.5.17/d3.min.js&quot; charset=&quot;utf-8&quot;&gt;&lt;/script&gt;\n",
              "&lt;script src=&quot;https://cdn.jsdelivr.net/webjars/org.webjars.bower/vega/2.6.3/vega.min.js&quot; charset=&quot;utf-8&quot;&gt;&lt;/script&gt;\n",
              "&lt;script src=&quot;https://cdn.jsdelivr.net/webjars/org.webjars.bower/vega-lite/1.2.0/vega-lite.min.js&quot; charset=&quot;utf-8&quot;&gt;&lt;/script&gt;\n",
              "&lt;script src=&quot;https://vega.github.io/vega-editor/vendor/vega-embed.js&quot; charset=&quot;utf-8&quot;&gt;&lt;/script&gt;\n",
              "  &lt;/head&gt;\n",
              "  &lt;body&gt;\n",
              " &lt;div id='vegas-9fc44e85-6280-42da-aee2-907827b73bf0'&gt;&lt;/div&gt;\n",
              " &lt;script&gt;\n",
              "   var embedSpec = {\n",
              "     mode: &quot;vega-lite&quot;,\n",
              "     spec: {\n",
              "  &quot;mark&quot; : &quot;point&quot;,\n",
              "  &quot;encoding&quot; : {\n",
              "    &quot;x&quot; : {\n",
              "      &quot;field&quot; : &quot;IMDB_Rating&quot;,\n",
              "      &quot;type&quot; : &quot;quantitative&quot;,\n",
              "      &quot;bin&quot; : {\n",
              "        &quot;maxbins&quot; : 10.0\n",
              "      }\n",
              "    },\n",
              "    &quot;y&quot; : {\n",
              "      &quot;field&quot; : &quot;Rotten_Tomatoes_Rating&quot;,\n",
              "      &quot;type&quot; : &quot;quantitative&quot;,\n",
              "      &quot;bin&quot; : {\n",
              "        &quot;maxbins&quot; : 10.0\n",
              "      }\n",
              "    },\n",
              "    &quot;size&quot; : {\n",
              "      &quot;field&quot; : &quot;*&quot;,\n",
              "      &quot;type&quot; : &quot;quantitative&quot;,\n",
              "      &quot;aggregate&quot; : &quot;count&quot;\n",
              "    }\n",
              "  },\n",
              "  &quot;data&quot; : {\n",
              "    &quot;url&quot; : &quot;https://vega.github.io/vega-editor/app/data/movies.json&quot;\n",
              "  }\n",
              "}\n",
              "   }\n",
              "   vg.embed(&quot;#vegas-9fc44e85-6280-42da-aee2-907827b73bf0&quot;, embedSpec, function(error, result) {});\n",
              " &lt;/script&gt;\n",
              "\n",
              "    &lt;/body&gt;\n",
              "&lt;/html&gt;\"></iframe>\n",
              "  <script>\n",
              "    (function() {\n",
              "      function resizeIFrame(el, k) {\n",
              "        var height = el.contentWindow.document.body.scrollHeight || '400'; // Fallback in case of no scroll height\n",
              "        el.style.height = height + 'px';\n",
              "        if (k <= 10) { setTimeout(function() { resizeIFrame(el, k+1) }, 1000 + (k * 250)) };\n",
              "      }\n",
              "      resizeIFrame(document.querySelector('#frame-vegas-9fc44e85-6280-42da-aee2-907827b73bf0'), 1);\n",
              "    })(); // IIFE\n",
              "  </script>\n",
              "    "
            ]
          },
          "output_type" : "display_data"
        }
      ]
    },
    {
      "cell_type" : "code",
      "execution_count" : 11,
      "metadata" : {
        "cell.metadata.exec_info" : {
          "startTs" : 1583875054218,
          "endTs" : 1583875054421
        },
        "language" : "scala"
      },
      "language" : "scala",
      "source" : [
        "Vegas().\r\n",
        "  withURL(Cars).\r\n",
        "  mark(Point).\r\n",
        "  encodeX(\"Horsepower\", Quantitative).\r\n",
        "  encodeY(\"Miles_per_Gallon\", Quantitative).\r\n",
        "  encodeColor(field=\"Origin\", dataType=Nominal).\r\n",
        "  show"
      ],
      "outputs" : [
        {
          "data" : {
            "text/html" : [
              "\n",
              "  <iframe id=\"frame-vegas-26d47fcb-3397-48b5-a9f6-343a1267534c\" sandbox=\"allow-scripts allow-same-origin\" style=\"border: none; width: 100%\" srcdoc=\"&lt;html&gt;\n",
              "  &lt;head&gt;\n",
              "    &lt;script src=&quot;https://cdn.jsdelivr.net/webjars/org.webjars.bower/d3/3.5.17/d3.min.js&quot; charset=&quot;utf-8&quot;&gt;&lt;/script&gt;\n",
              "&lt;script src=&quot;https://cdn.jsdelivr.net/webjars/org.webjars.bower/vega/2.6.3/vega.min.js&quot; charset=&quot;utf-8&quot;&gt;&lt;/script&gt;\n",
              "&lt;script src=&quot;https://cdn.jsdelivr.net/webjars/org.webjars.bower/vega-lite/1.2.0/vega-lite.min.js&quot; charset=&quot;utf-8&quot;&gt;&lt;/script&gt;\n",
              "&lt;script src=&quot;https://vega.github.io/vega-editor/vendor/vega-embed.js&quot; charset=&quot;utf-8&quot;&gt;&lt;/script&gt;\n",
              "  &lt;/head&gt;\n",
              "  &lt;body&gt;\n",
              " &lt;div id='vegas-26d47fcb-3397-48b5-a9f6-343a1267534c'&gt;&lt;/div&gt;\n",
              " &lt;script&gt;\n",
              "   var embedSpec = {\n",
              "     mode: &quot;vega-lite&quot;,\n",
              "     spec: {\n",
              "  &quot;mark&quot; : &quot;point&quot;,\n",
              "  &quot;encoding&quot; : {\n",
              "    &quot;x&quot; : {\n",
              "      &quot;field&quot; : &quot;Horsepower&quot;,\n",
              "      &quot;type&quot; : &quot;quantitative&quot;\n",
              "    },\n",
              "    &quot;y&quot; : {\n",
              "      &quot;field&quot; : &quot;Miles_per_Gallon&quot;,\n",
              "      &quot;type&quot; : &quot;quantitative&quot;\n",
              "    },\n",
              "    &quot;color&quot; : {\n",
              "      &quot;field&quot; : &quot;Origin&quot;,\n",
              "      &quot;type&quot; : &quot;nominal&quot;\n",
              "    }\n",
              "  },\n",
              "  &quot;data&quot; : {\n",
              "    &quot;url&quot; : &quot;https://vega.github.io/vega-editor/app/data/cars.json&quot;\n",
              "  }\n",
              "}\n",
              "   }\n",
              "   vg.embed(&quot;#vegas-26d47fcb-3397-48b5-a9f6-343a1267534c&quot;, embedSpec, function(error, result) {});\n",
              " &lt;/script&gt;\n",
              "\n",
              "    &lt;/body&gt;\n",
              "&lt;/html&gt;\"></iframe>\n",
              "  <script>\n",
              "    (function() {\n",
              "      function resizeIFrame(el, k) {\n",
              "        var height = el.contentWindow.document.body.scrollHeight || '400'; // Fallback in case of no scroll height\n",
              "        el.style.height = height + 'px';\n",
              "        if (k <= 10) { setTimeout(function() { resizeIFrame(el, k+1) }, 1000 + (k * 250)) };\n",
              "      }\n",
              "      resizeIFrame(document.querySelector('#frame-vegas-26d47fcb-3397-48b5-a9f6-343a1267534c'), 1);\n",
              "    })(); // IIFE\n",
              "  </script>\n",
              "    "
            ]
          },
          "output_type" : "display_data"
        }
      ]
    },
    {
      "cell_type" : "markdown",
      "execution_count" : 12,
      "metadata" : {
        "language" : "text"
      },
      "language" : "text",
      "source" : [
        "# A scatterplot showing horsepower and miles per gallons with binned acceleration on color.\n",
        "\n",
        "\n"
      ],
      "outputs" : [
      ]
    },
    {
      "cell_type" : "code",
      "execution_count" : 13,
      "metadata" : {
        "cell.metadata.exec_info" : {
          "startTs" : 1583875098733,
          "endTs" : 1583875099007
        },
        "language" : "scala"
      },
      "language" : "scala",
      "source" : [
        "Vegas(\"A scatterplot showing horsepower and miles per gallons with binned acceleration on color.\").\r\n",
        "  withURL(Cars).\r\n",
        "  mark(Point).\r\n",
        "  encodeX(\"Horsepower\", Quantitative).\r\n",
        "  encodeY(\"Miles_per_Gallon\", Quantitative).\r\n",
        "  encodeColor(field=\"Acceleration\", dataType=Quantitative, bin=Bin(maxbins=5.0)).\r\n",
        "  show"
      ],
      "outputs" : [
        {
          "data" : {
            "text/html" : [
              "\n",
              "  <iframe id=\"frame-vegas-0d4e618b-6690-4ae0-9934-ab01700fa085\" sandbox=\"allow-scripts allow-same-origin\" style=\"border: none; width: 100%\" srcdoc=\"&lt;html&gt;\n",
              "  &lt;head&gt;\n",
              "    &lt;script src=&quot;https://cdn.jsdelivr.net/webjars/org.webjars.bower/d3/3.5.17/d3.min.js&quot; charset=&quot;utf-8&quot;&gt;&lt;/script&gt;\n",
              "&lt;script src=&quot;https://cdn.jsdelivr.net/webjars/org.webjars.bower/vega/2.6.3/vega.min.js&quot; charset=&quot;utf-8&quot;&gt;&lt;/script&gt;\n",
              "&lt;script src=&quot;https://cdn.jsdelivr.net/webjars/org.webjars.bower/vega-lite/1.2.0/vega-lite.min.js&quot; charset=&quot;utf-8&quot;&gt;&lt;/script&gt;\n",
              "&lt;script src=&quot;https://vega.github.io/vega-editor/vendor/vega-embed.js&quot; charset=&quot;utf-8&quot;&gt;&lt;/script&gt;\n",
              "  &lt;/head&gt;\n",
              "  &lt;body&gt;\n",
              " &lt;div id='vegas-0d4e618b-6690-4ae0-9934-ab01700fa085'&gt;&lt;/div&gt;\n",
              " &lt;script&gt;\n",
              "   var embedSpec = {\n",
              "     mode: &quot;vega-lite&quot;,\n",
              "     spec: {\n",
              "  &quot;mark&quot; : &quot;point&quot;,\n",
              "  &quot;encoding&quot; : {\n",
              "    &quot;x&quot; : {\n",
              "      &quot;field&quot; : &quot;Horsepower&quot;,\n",
              "      &quot;type&quot; : &quot;quantitative&quot;\n",
              "    },\n",
              "    &quot;y&quot; : {\n",
              "      &quot;field&quot; : &quot;Miles_per_Gallon&quot;,\n",
              "      &quot;type&quot; : &quot;quantitative&quot;\n",
              "    },\n",
              "    &quot;color&quot; : {\n",
              "      &quot;field&quot; : &quot;Acceleration&quot;,\n",
              "      &quot;type&quot; : &quot;quantitative&quot;,\n",
              "      &quot;bin&quot; : {\n",
              "        &quot;maxbins&quot; : 5.0\n",
              "      }\n",
              "    }\n",
              "  },\n",
              "  &quot;description&quot; : &quot;A scatterplot showing horsepower and miles per gallons with binned acceleration on color.&quot;,\n",
              "  &quot;data&quot; : {\n",
              "    &quot;url&quot; : &quot;https://vega.github.io/vega-editor/app/data/cars.json&quot;\n",
              "  }\n",
              "}\n",
              "   }\n",
              "   vg.embed(&quot;#vegas-0d4e618b-6690-4ae0-9934-ab01700fa085&quot;, embedSpec, function(error, result) {});\n",
              " &lt;/script&gt;\n",
              "\n",
              "    &lt;/body&gt;\n",
              "&lt;/html&gt;\"></iframe>\n",
              "  <script>\n",
              "    (function() {\n",
              "      function resizeIFrame(el, k) {\n",
              "        var height = el.contentWindow.document.body.scrollHeight || '400'; // Fallback in case of no scroll height\n",
              "        el.style.height = height + 'px';\n",
              "        if (k <= 10) { setTimeout(function() { resizeIFrame(el, k+1) }, 1000 + (k * 250)) };\n",
              "      }\n",
              "      resizeIFrame(document.querySelector('#frame-vegas-0d4e618b-6690-4ae0-9934-ab01700fa085'), 1);\n",
              "    })(); // IIFE\n",
              "  </script>\n",
              "    "
            ]
          },
          "output_type" : "display_data"
        }
      ]
    },
    {
      "cell_type" : "code",
      "execution_count" : 14,
      "metadata" : {
        "cell.metadata.exec_info" : {
          "startTs" : 1583875117339,
          "endTs" : 1583875117566
        },
        "language" : "scala"
      },
      "language" : "scala",
      "source" : [
        "Vegas().\r\n",
        "  withURL(Cars).\r\n",
        "  mark(Area).\r\n",
        "  encodeX(\"Acceleration\", Quantitative, bin=Bin()).\r\n",
        "  encodeY(\"Horsepower\", Quantitative, AggOps.Mean, enableBin=false).\r\n",
        "  encodeColor(field=\"Cylinders\", dataType=Nominal).\r\n",
        "  show"
      ],
      "outputs" : [
        {
          "data" : {
            "text/html" : [
              "\n",
              "  <iframe id=\"frame-vegas-1e4b985b-bad7-4592-80c1-1ad9a1dbdb45\" sandbox=\"allow-scripts allow-same-origin\" style=\"border: none; width: 100%\" srcdoc=\"&lt;html&gt;\n",
              "  &lt;head&gt;\n",
              "    &lt;script src=&quot;https://cdn.jsdelivr.net/webjars/org.webjars.bower/d3/3.5.17/d3.min.js&quot; charset=&quot;utf-8&quot;&gt;&lt;/script&gt;\n",
              "&lt;script src=&quot;https://cdn.jsdelivr.net/webjars/org.webjars.bower/vega/2.6.3/vega.min.js&quot; charset=&quot;utf-8&quot;&gt;&lt;/script&gt;\n",
              "&lt;script src=&quot;https://cdn.jsdelivr.net/webjars/org.webjars.bower/vega-lite/1.2.0/vega-lite.min.js&quot; charset=&quot;utf-8&quot;&gt;&lt;/script&gt;\n",
              "&lt;script src=&quot;https://vega.github.io/vega-editor/vendor/vega-embed.js&quot; charset=&quot;utf-8&quot;&gt;&lt;/script&gt;\n",
              "  &lt;/head&gt;\n",
              "  &lt;body&gt;\n",
              " &lt;div id='vegas-1e4b985b-bad7-4592-80c1-1ad9a1dbdb45'&gt;&lt;/div&gt;\n",
              " &lt;script&gt;\n",
              "   var embedSpec = {\n",
              "     mode: &quot;vega-lite&quot;,\n",
              "     spec: {\n",
              "  &quot;mark&quot; : &quot;area&quot;,\n",
              "  &quot;encoding&quot; : {\n",
              "    &quot;x&quot; : {\n",
              "      &quot;field&quot; : &quot;Acceleration&quot;,\n",
              "      &quot;type&quot; : &quot;quantitative&quot;,\n",
              "      &quot;bin&quot; : {\n",
              "        \n",
              "      }\n",
              "    },\n",
              "    &quot;y&quot; : {\n",
              "      &quot;field&quot; : &quot;Horsepower&quot;,\n",
              "      &quot;type&quot; : &quot;quantitative&quot;,\n",
              "      &quot;bin&quot; : false,\n",
              "      &quot;aggregate&quot; : &quot;mean&quot;\n",
              "    },\n",
              "    &quot;color&quot; : {\n",
              "      &quot;field&quot; : &quot;Cylinders&quot;,\n",
              "      &quot;type&quot; : &quot;nominal&quot;\n",
              "    }\n",
              "  },\n",
              "  &quot;data&quot; : {\n",
              "    &quot;url&quot; : &quot;https://vega.github.io/vega-editor/app/data/cars.json&quot;\n",
              "  }\n",
              "}\n",
              "   }\n",
              "   vg.embed(&quot;#vegas-1e4b985b-bad7-4592-80c1-1ad9a1dbdb45&quot;, embedSpec, function(error, result) {});\n",
              " &lt;/script&gt;\n",
              "\n",
              "    &lt;/body&gt;\n",
              "&lt;/html&gt;\"></iframe>\n",
              "  <script>\n",
              "    (function() {\n",
              "      function resizeIFrame(el, k) {\n",
              "        var height = el.contentWindow.document.body.scrollHeight || '400'; // Fallback in case of no scroll height\n",
              "        el.style.height = height + 'px';\n",
              "        if (k <= 10) { setTimeout(function() { resizeIFrame(el, k+1) }, 1000 + (k * 250)) };\n",
              "      }\n",
              "      resizeIFrame(document.querySelector('#frame-vegas-1e4b985b-bad7-4592-80c1-1ad9a1dbdb45'), 1);\n",
              "    })(); // IIFE\n",
              "  </script>\n",
              "    "
            ]
          },
          "output_type" : "display_data"
        }
      ]
    },
    {
      "cell_type" : "markdown",
      "execution_count" : 15,
      "metadata" : {
        "language" : "text"
      },
      "language" : "text",
      "source" : [
        "# The Trellis display by Becker et al. helped establish small multiples as a “powerful mechanism for understanding interactions in studies of how a response depends on explanatory variables”. Here we reproduce a trellis of Barley yields from the 1930s, complete with main-effects ordering to facilitate comparison.\n",
        "\n",
        "\n"
      ],
      "outputs" : [
      ]
    },
    {
      "cell_type" : "code",
      "execution_count" : 16,
      "metadata" : {
        "cell.metadata.exec_info" : {
          "startTs" : 1583875181368,
          "endTs" : 1583875181636
        },
        "language" : "scala"
      },
      "language" : "scala",
      "source" : [
        "Vegas(\"The Trellis display by Becker et al. helped establish small multiples as a “powerful mechanism for understanding interactions in studies of how a response depends on explanatory variables”. Here we reproduce a trellis of Barley yields from the 1930s, complete with main-effects ordering to facilitate comparison.\").\r\n",
        "  withURL(Barley).\r\n",
        "  mark(Point).\r\n",
        "  encodeRow(\"site\", Ordinal).\r\n",
        "  encodeX(\"yield\", Quantitative, aggregate=AggOps.Mean).\r\n",
        "  encodeY(\"variety\", Ordinal, sortField=Sort(\"yield\", AggOps.Mean), scale=Scale(bandSize = 12.0)).\r\n",
        "  encodeColor(field=\"year\", dataType=Nominal).\r\n",
        "  show"
      ],
      "outputs" : [
        {
          "data" : {
            "text/html" : [
              "\n",
              "  <iframe id=\"frame-vegas-9e178c15-33e3-4959-87d5-c45d4b392fdf\" sandbox=\"allow-scripts allow-same-origin\" style=\"border: none; width: 100%\" srcdoc=\"&lt;html&gt;\n",
              "  &lt;head&gt;\n",
              "    &lt;script src=&quot;https://cdn.jsdelivr.net/webjars/org.webjars.bower/d3/3.5.17/d3.min.js&quot; charset=&quot;utf-8&quot;&gt;&lt;/script&gt;\n",
              "&lt;script src=&quot;https://cdn.jsdelivr.net/webjars/org.webjars.bower/vega/2.6.3/vega.min.js&quot; charset=&quot;utf-8&quot;&gt;&lt;/script&gt;\n",
              "&lt;script src=&quot;https://cdn.jsdelivr.net/webjars/org.webjars.bower/vega-lite/1.2.0/vega-lite.min.js&quot; charset=&quot;utf-8&quot;&gt;&lt;/script&gt;\n",
              "&lt;script src=&quot;https://vega.github.io/vega-editor/vendor/vega-embed.js&quot; charset=&quot;utf-8&quot;&gt;&lt;/script&gt;\n",
              "  &lt;/head&gt;\n",
              "  &lt;body&gt;\n",
              " &lt;div id='vegas-9e178c15-33e3-4959-87d5-c45d4b392fdf'&gt;&lt;/div&gt;\n",
              " &lt;script&gt;\n",
              "   var embedSpec = {\n",
              "     mode: &quot;vega-lite&quot;,\n",
              "     spec: {\n",
              "  &quot;mark&quot; : &quot;point&quot;,\n",
              "  &quot;encoding&quot; : {\n",
              "    &quot;row&quot; : {\n",
              "      &quot;field&quot; : &quot;site&quot;,\n",
              "      &quot;type&quot; : &quot;ordinal&quot;\n",
              "    },\n",
              "    &quot;x&quot; : {\n",
              "      &quot;field&quot; : &quot;yield&quot;,\n",
              "      &quot;type&quot; : &quot;quantitative&quot;,\n",
              "      &quot;aggregate&quot; : &quot;mean&quot;\n",
              "    },\n",
              "    &quot;y&quot; : {\n",
              "      &quot;scale&quot; : {\n",
              "        &quot;bandSize&quot; : 12.0\n",
              "      },\n",
              "      &quot;sort&quot; : {\n",
              "        &quot;field&quot; : &quot;yield&quot;,\n",
              "        &quot;op&quot; : &quot;mean&quot;\n",
              "      },\n",
              "      &quot;field&quot; : &quot;variety&quot;,\n",
              "      &quot;type&quot; : &quot;ordinal&quot;\n",
              "    },\n",
              "    &quot;color&quot; : {\n",
              "      &quot;field&quot; : &quot;year&quot;,\n",
              "      &quot;type&quot; : &quot;nominal&quot;\n",
              "    }\n",
              "  },\n",
              "  &quot;description&quot; : &quot;The Trellis display by Becker et al. helped establish small multiples as a “powerful mechanism for understanding interactions in studies of how a response depends on explanatory variables”. Here we reproduce a trellis of Barley yields from the 1930s, complete with main-effects ordering to facilitate comparison.&quot;,\n",
              "  &quot;data&quot; : {\n",
              "    &quot;url&quot; : &quot;https://vega.github.io/vega-editor/app/data/barley.json&quot;\n",
              "  }\n",
              "}\n",
              "   }\n",
              "   vg.embed(&quot;#vegas-9e178c15-33e3-4959-87d5-c45d4b392fdf&quot;, embedSpec, function(error, result) {});\n",
              " &lt;/script&gt;\n",
              "\n",
              "    &lt;/body&gt;\n",
              "&lt;/html&gt;\"></iframe>\n",
              "  <script>\n",
              "    (function() {\n",
              "      function resizeIFrame(el, k) {\n",
              "        var height = el.contentWindow.document.body.scrollHeight || '400'; // Fallback in case of no scroll height\n",
              "        el.style.height = height + 'px';\n",
              "        if (k <= 10) { setTimeout(function() { resizeIFrame(el, k+1) }, 1000 + (k * 250)) };\n",
              "      }\n",
              "      resizeIFrame(document.querySelector('#frame-vegas-9e178c15-33e3-4959-87d5-c45d4b392fdf'), 1);\n",
              "    })(); // IIFE\n",
              "  </script>\n",
              "    "
            ]
          },
          "output_type" : "display_data"
        }
      ]
    },
    {
      "cell_type" : "markdown",
      "execution_count" : 17,
      "metadata" : {
        "language" : "text"
      },
      "language" : "text",
      "source" : [
        "# A scatterplot with custom star shapes.\n",
        "\n",
        "\n"
      ],
      "outputs" : [
      ]
    },
    {
      "cell_type" : "code",
      "execution_count" : 18,
      "metadata" : {
        "cell.metadata.exec_info" : {
          "startTs" : 1583875222551,
          "endTs" : 1583875222806
        },
        "language" : "scala"
      },
      "language" : "scala",
      "source" : [
        "Vegas(\"A scatterplot with custom star shapes.\").\r\n",
        "  withURL(Cars).\r\n",
        "  mark(Point).\r\n",
        "  encodeX(\"Horsepower\", Quant).\r\n",
        "  encodeY(\"Miles_per_Gallon\", Quant).\r\n",
        "  encodeColor(\"Cylinders\", Nom).\r\n",
        "  encodeSize(\"Weight_in_lbs\", Quant).\r\n",
        "  configMark(customShape=\"M0,0.2L0.2351,0.3236 0.1902,0.0618 0.3804,-0.1236 0.1175,-0.1618 0,-0.4 -0.1175,-0.1618 -0.3804,-0.1236 -0.1902,0.0618 -0.2351,0.3236 0,0.2Z\").\r\n",
        "  show"
      ],
      "outputs" : [
        {
          "data" : {
            "text/html" : [
              "\n",
              "  <iframe id=\"frame-vegas-ffa7989e-992d-4ca7-8eeb-4140d1000944\" sandbox=\"allow-scripts allow-same-origin\" style=\"border: none; width: 100%\" srcdoc=\"&lt;html&gt;\n",
              "  &lt;head&gt;\n",
              "    &lt;script src=&quot;https://cdn.jsdelivr.net/webjars/org.webjars.bower/d3/3.5.17/d3.min.js&quot; charset=&quot;utf-8&quot;&gt;&lt;/script&gt;\n",
              "&lt;script src=&quot;https://cdn.jsdelivr.net/webjars/org.webjars.bower/vega/2.6.3/vega.min.js&quot; charset=&quot;utf-8&quot;&gt;&lt;/script&gt;\n",
              "&lt;script src=&quot;https://cdn.jsdelivr.net/webjars/org.webjars.bower/vega-lite/1.2.0/vega-lite.min.js&quot; charset=&quot;utf-8&quot;&gt;&lt;/script&gt;\n",
              "&lt;script src=&quot;https://vega.github.io/vega-editor/vendor/vega-embed.js&quot; charset=&quot;utf-8&quot;&gt;&lt;/script&gt;\n",
              "  &lt;/head&gt;\n",
              "  &lt;body&gt;\n",
              " &lt;div id='vegas-ffa7989e-992d-4ca7-8eeb-4140d1000944'&gt;&lt;/div&gt;\n",
              " &lt;script&gt;\n",
              "   var embedSpec = {\n",
              "     mode: &quot;vega-lite&quot;,\n",
              "     spec: {\n",
              "  &quot;mark&quot; : &quot;point&quot;,\n",
              "  &quot;encoding&quot; : {\n",
              "    &quot;x&quot; : {\n",
              "      &quot;field&quot; : &quot;Horsepower&quot;,\n",
              "      &quot;type&quot; : &quot;quantitative&quot;\n",
              "    },\n",
              "    &quot;y&quot; : {\n",
              "      &quot;field&quot; : &quot;Miles_per_Gallon&quot;,\n",
              "      &quot;type&quot; : &quot;quantitative&quot;\n",
              "    },\n",
              "    &quot;color&quot; : {\n",
              "      &quot;field&quot; : &quot;Cylinders&quot;,\n",
              "      &quot;type&quot; : &quot;nominal&quot;\n",
              "    },\n",
              "    &quot;size&quot; : {\n",
              "      &quot;field&quot; : &quot;Weight_in_lbs&quot;,\n",
              "      &quot;type&quot; : &quot;quantitative&quot;\n",
              "    }\n",
              "  },\n",
              "  &quot;description&quot; : &quot;A scatterplot with custom star shapes.&quot;,\n",
              "  &quot;data&quot; : {\n",
              "    &quot;url&quot; : &quot;https://vega.github.io/vega-editor/app/data/cars.json&quot;\n",
              "  },\n",
              "  &quot;config&quot; : {\n",
              "    &quot;mark&quot; : {\n",
              "      &quot;shape&quot; : &quot;M0,0.2L0.2351,0.3236 0.1902,0.0618 0.3804,-0.1236 0.1175,-0.1618 0,-0.4 -0.1175,-0.1618 -0.3804,-0.1236 -0.1902,0.0618 -0.2351,0.3236 0,0.2Z&quot;\n",
              "    }\n",
              "  }\n",
              "}\n",
              "   }\n",
              "   vg.embed(&quot;#vegas-ffa7989e-992d-4ca7-8eeb-4140d1000944&quot;, embedSpec, function(error, result) {});\n",
              " &lt;/script&gt;\n",
              "\n",
              "    &lt;/body&gt;\n",
              "&lt;/html&gt;\"></iframe>\n",
              "  <script>\n",
              "    (function() {\n",
              "      function resizeIFrame(el, k) {\n",
              "        var height = el.contentWindow.document.body.scrollHeight || '400'; // Fallback in case of no scroll height\n",
              "        el.style.height = height + 'px';\n",
              "        if (k <= 10) { setTimeout(function() { resizeIFrame(el, k+1) }, 1000 + (k * 250)) };\n",
              "      }\n",
              "      resizeIFrame(document.querySelector('#frame-vegas-ffa7989e-992d-4ca7-8eeb-4140d1000944'), 1);\n",
              "    })(); // IIFE\n",
              "  </script>\n",
              "    "
            ]
          },
          "output_type" : "display_data"
        }
      ]
    },
    {
      "cell_type" : "markdown",
      "execution_count" : 19,
      "metadata" : {
        "language" : "text"
      },
      "language" : "text",
      "source" : [
        "# A scatterplot showing average horsepower and displacement for cars from different origins.\n",
        "\n",
        "\n"
      ],
      "outputs" : [
      ]
    },
    {
      "cell_type" : "code",
      "execution_count" : 20,
      "metadata" : {
        "cell.metadata.exec_info" : {
          "startTs" : 1583875266577,
          "endTs" : 1583875266807
        },
        "language" : "scala"
      },
      "language" : "scala",
      "source" : [
        "Vegas(\"A scatterplot showing average horsepower and displacement for cars from different origins.\").\r\n",
        "  withURL(Cars).\r\n",
        "  mark(Point).\r\n",
        "  encodeX(\"Horsepower\", Quant, AggOps.Mean).\r\n",
        "  encodeY(\"Displacement\", Quant, AggOps.Mean).\r\n",
        "  encodeDetail(\"Origin\").\r\n",
        "  show"
      ],
      "outputs" : [
        {
          "data" : {
            "text/html" : [
              "\n",
              "  <iframe id=\"frame-vegas-077b9cfe-47ae-4003-b601-711b15e7ff86\" sandbox=\"allow-scripts allow-same-origin\" style=\"border: none; width: 100%\" srcdoc=\"&lt;html&gt;\n",
              "  &lt;head&gt;\n",
              "    &lt;script src=&quot;https://cdn.jsdelivr.net/webjars/org.webjars.bower/d3/3.5.17/d3.min.js&quot; charset=&quot;utf-8&quot;&gt;&lt;/script&gt;\n",
              "&lt;script src=&quot;https://cdn.jsdelivr.net/webjars/org.webjars.bower/vega/2.6.3/vega.min.js&quot; charset=&quot;utf-8&quot;&gt;&lt;/script&gt;\n",
              "&lt;script src=&quot;https://cdn.jsdelivr.net/webjars/org.webjars.bower/vega-lite/1.2.0/vega-lite.min.js&quot; charset=&quot;utf-8&quot;&gt;&lt;/script&gt;\n",
              "&lt;script src=&quot;https://vega.github.io/vega-editor/vendor/vega-embed.js&quot; charset=&quot;utf-8&quot;&gt;&lt;/script&gt;\n",
              "  &lt;/head&gt;\n",
              "  &lt;body&gt;\n",
              " &lt;div id='vegas-077b9cfe-47ae-4003-b601-711b15e7ff86'&gt;&lt;/div&gt;\n",
              " &lt;script&gt;\n",
              "   var embedSpec = {\n",
              "     mode: &quot;vega-lite&quot;,\n",
              "     spec: {\n",
              "  &quot;mark&quot; : &quot;point&quot;,\n",
              "  &quot;encoding&quot; : {\n",
              "    &quot;x&quot; : {\n",
              "      &quot;field&quot; : &quot;Horsepower&quot;,\n",
              "      &quot;type&quot; : &quot;quantitative&quot;,\n",
              "      &quot;aggregate&quot; : &quot;mean&quot;\n",
              "    },\n",
              "    &quot;y&quot; : {\n",
              "      &quot;field&quot; : &quot;Displacement&quot;,\n",
              "      &quot;type&quot; : &quot;quantitative&quot;,\n",
              "      &quot;aggregate&quot; : &quot;mean&quot;\n",
              "    },\n",
              "    &quot;detail&quot; : {\n",
              "      &quot;field&quot; : &quot;Origin&quot;\n",
              "    }\n",
              "  },\n",
              "  &quot;description&quot; : &quot;A scatterplot showing average horsepower and displacement for cars from different origins.&quot;,\n",
              "  &quot;data&quot; : {\n",
              "    &quot;url&quot; : &quot;https://vega.github.io/vega-editor/app/data/cars.json&quot;\n",
              "  }\n",
              "}\n",
              "   }\n",
              "   vg.embed(&quot;#vegas-077b9cfe-47ae-4003-b601-711b15e7ff86&quot;, embedSpec, function(error, result) {});\n",
              " &lt;/script&gt;\n",
              "\n",
              "    &lt;/body&gt;\n",
              "&lt;/html&gt;\"></iframe>\n",
              "  <script>\n",
              "    (function() {\n",
              "      function resizeIFrame(el, k) {\n",
              "        var height = el.contentWindow.document.body.scrollHeight || '400'; // Fallback in case of no scroll height\n",
              "        el.style.height = height + 'px';\n",
              "        if (k <= 10) { setTimeout(function() { resizeIFrame(el, k+1) }, 1000 + (k * 250)) };\n",
              "      }\n",
              "      resizeIFrame(document.querySelector('#frame-vegas-077b9cfe-47ae-4003-b601-711b15e7ff86'), 1);\n",
              "    })(); // IIFE\n",
              "  </script>\n",
              "    "
            ]
          },
          "output_type" : "display_data"
        }
      ]
    },
    {
      "cell_type" : "markdown",
      "execution_count" : 21,
      "metadata" : {
        "language" : "text"
      },
      "language" : "text",
      "source" : [
        "# Stock prices of 5 Tech Companies Over Time.\n",
        "\n",
        "\n"
      ],
      "outputs" : [
      ]
    },
    {
      "cell_type" : "code",
      "execution_count" : 22,
      "metadata" : {
        "cell.metadata.exec_info" : {
          "startTs" : 1583875299720,
          "endTs" : 1583875300025
        },
        "language" : "scala"
      },
      "language" : "scala",
      "source" : [
        "Vegas(\"Stock prices of 5 Tech Companies Over Time.\").\r\n",
        "  withURL(Stocks, formatType = DataFormat.Csv).\r\n",
        "  mark(Line).\r\n",
        "  encodeX(\"date\", Temp).\r\n",
        "  encodeY(\"price\", Quant).\r\n",
        "  encodeDetailFields(Field(field=\"symbol\", dataType=Nominal)).\r\n",
        "  show"
      ],
      "outputs" : [
        {
          "data" : {
            "text/html" : [
              "\n",
              "  <iframe id=\"frame-vegas-931ba466-715d-41f2-8906-1918dea8767c\" sandbox=\"allow-scripts allow-same-origin\" style=\"border: none; width: 100%\" srcdoc=\"&lt;html&gt;\n",
              "  &lt;head&gt;\n",
              "    &lt;script src=&quot;https://cdn.jsdelivr.net/webjars/org.webjars.bower/d3/3.5.17/d3.min.js&quot; charset=&quot;utf-8&quot;&gt;&lt;/script&gt;\n",
              "&lt;script src=&quot;https://cdn.jsdelivr.net/webjars/org.webjars.bower/vega/2.6.3/vega.min.js&quot; charset=&quot;utf-8&quot;&gt;&lt;/script&gt;\n",
              "&lt;script src=&quot;https://cdn.jsdelivr.net/webjars/org.webjars.bower/vega-lite/1.2.0/vega-lite.min.js&quot; charset=&quot;utf-8&quot;&gt;&lt;/script&gt;\n",
              "&lt;script src=&quot;https://vega.github.io/vega-editor/vendor/vega-embed.js&quot; charset=&quot;utf-8&quot;&gt;&lt;/script&gt;\n",
              "  &lt;/head&gt;\n",
              "  &lt;body&gt;\n",
              " &lt;div id='vegas-931ba466-715d-41f2-8906-1918dea8767c'&gt;&lt;/div&gt;\n",
              " &lt;script&gt;\n",
              "   var embedSpec = {\n",
              "     mode: &quot;vega-lite&quot;,\n",
              "     spec: {\n",
              "  &quot;mark&quot; : &quot;line&quot;,\n",
              "  &quot;encoding&quot; : {\n",
              "    &quot;x&quot; : {\n",
              "      &quot;field&quot; : &quot;date&quot;,\n",
              "      &quot;type&quot; : &quot;temporal&quot;\n",
              "    },\n",
              "    &quot;y&quot; : {\n",
              "      &quot;field&quot; : &quot;price&quot;,\n",
              "      &quot;type&quot; : &quot;quantitative&quot;\n",
              "    },\n",
              "    &quot;detail&quot; : {\n",
              "      &quot;field&quot; : &quot;symbol&quot;,\n",
              "      &quot;type&quot; : &quot;nominal&quot;\n",
              "    }\n",
              "  },\n",
              "  &quot;description&quot; : &quot;Stock prices of 5 Tech Companies Over Time.&quot;,\n",
              "  &quot;data&quot; : {\n",
              "    &quot;format&quot; : {\n",
              "      &quot;type&quot; : &quot;csv&quot;\n",
              "    },\n",
              "    &quot;url&quot; : &quot;https://vega.github.io/vega-editor/app/data/stocks.csv&quot;\n",
              "  }\n",
              "}\n",
              "   }\n",
              "   vg.embed(&quot;#vegas-931ba466-715d-41f2-8906-1918dea8767c&quot;, embedSpec, function(error, result) {});\n",
              " &lt;/script&gt;\n",
              "\n",
              "    &lt;/body&gt;\n",
              "&lt;/html&gt;\"></iframe>\n",
              "  <script>\n",
              "    (function() {\n",
              "      function resizeIFrame(el, k) {\n",
              "        var height = el.contentWindow.document.body.scrollHeight || '400'; // Fallback in case of no scroll height\n",
              "        el.style.height = height + 'px';\n",
              "        if (k <= 10) { setTimeout(function() { resizeIFrame(el, k+1) }, 1000 + (k * 250)) };\n",
              "      }\n",
              "      resizeIFrame(document.querySelector('#frame-vegas-931ba466-715d-41f2-8906-1918dea8767c'), 1);\n",
              "    })(); // IIFE\n",
              "  </script>\n",
              "    "
            ]
          },
          "output_type" : "display_data"
        }
      ]
    },
    {
      "cell_type" : "markdown",
      "execution_count" : 23,
      "metadata" : {
        "language" : "text"
      },
      "language" : "text",
      "source" : [
        "# Plot with hard-coded size value\n",
        "\n",
        "\n"
      ],
      "outputs" : [
      ]
    },
    {
      "cell_type" : "code",
      "execution_count" : 24,
      "metadata" : {
        "cell.metadata.exec_info" : {
          "startTs" : 1583875338131,
          "endTs" : 1583875338333
        },
        "language" : "scala"
      },
      "language" : "scala",
      "source" : [
        "Vegas(\"Plot with hard-coded size value\").\r\n",
        "  withURL(Cars).\r\n",
        "  mark(Circle).\r\n",
        "  encodeY(\"Horsepower\", Quantitative).\r\n",
        "  encodeX(\"Miles_per_Gallon\", Quantitative).\r\n",
        "  encodeSize(value=201L).\r\n",
        "  show"
      ],
      "outputs" : [
        {
          "data" : {
            "text/html" : [
              "\n",
              "  <iframe id=\"frame-vegas-441e59a0-c0f0-4865-b103-a1e1007a68ee\" sandbox=\"allow-scripts allow-same-origin\" style=\"border: none; width: 100%\" srcdoc=\"&lt;html&gt;\n",
              "  &lt;head&gt;\n",
              "    &lt;script src=&quot;https://cdn.jsdelivr.net/webjars/org.webjars.bower/d3/3.5.17/d3.min.js&quot; charset=&quot;utf-8&quot;&gt;&lt;/script&gt;\n",
              "&lt;script src=&quot;https://cdn.jsdelivr.net/webjars/org.webjars.bower/vega/2.6.3/vega.min.js&quot; charset=&quot;utf-8&quot;&gt;&lt;/script&gt;\n",
              "&lt;script src=&quot;https://cdn.jsdelivr.net/webjars/org.webjars.bower/vega-lite/1.2.0/vega-lite.min.js&quot; charset=&quot;utf-8&quot;&gt;&lt;/script&gt;\n",
              "&lt;script src=&quot;https://vega.github.io/vega-editor/vendor/vega-embed.js&quot; charset=&quot;utf-8&quot;&gt;&lt;/script&gt;\n",
              "  &lt;/head&gt;\n",
              "  &lt;body&gt;\n",
              " &lt;div id='vegas-441e59a0-c0f0-4865-b103-a1e1007a68ee'&gt;&lt;/div&gt;\n",
              " &lt;script&gt;\n",
              "   var embedSpec = {\n",
              "     mode: &quot;vega-lite&quot;,\n",
              "     spec: {\n",
              "  &quot;mark&quot; : &quot;circle&quot;,\n",
              "  &quot;encoding&quot; : {\n",
              "    &quot;x&quot; : {\n",
              "      &quot;field&quot; : &quot;Miles_per_Gallon&quot;,\n",
              "      &quot;type&quot; : &quot;quantitative&quot;\n",
              "    },\n",
              "    &quot;y&quot; : {\n",
              "      &quot;field&quot; : &quot;Horsepower&quot;,\n",
              "      &quot;type&quot; : &quot;quantitative&quot;\n",
              "    },\n",
              "    &quot;size&quot; : {\n",
              "      &quot;value&quot; : 201.0\n",
              "    }\n",
              "  },\n",
              "  &quot;description&quot; : &quot;Plot with hard-coded size value&quot;,\n",
              "  &quot;data&quot; : {\n",
              "    &quot;url&quot; : &quot;https://vega.github.io/vega-editor/app/data/cars.json&quot;\n",
              "  }\n",
              "}\n",
              "   }\n",
              "   vg.embed(&quot;#vegas-441e59a0-c0f0-4865-b103-a1e1007a68ee&quot;, embedSpec, function(error, result) {});\n",
              " &lt;/script&gt;\n",
              "\n",
              "    &lt;/body&gt;\n",
              "&lt;/html&gt;\"></iframe>\n",
              "  <script>\n",
              "    (function() {\n",
              "      function resizeIFrame(el, k) {\n",
              "        var height = el.contentWindow.document.body.scrollHeight || '400'; // Fallback in case of no scroll height\n",
              "        el.style.height = height + 'px';\n",
              "        if (k <= 10) { setTimeout(function() { resizeIFrame(el, k+1) }, 1000 + (k * 250)) };\n",
              "      }\n",
              "      resizeIFrame(document.querySelector('#frame-vegas-441e59a0-c0f0-4865-b103-a1e1007a68ee'), 1);\n",
              "    })(); // IIFE\n",
              "  </script>\n",
              "    "
            ]
          },
          "output_type" : "display_data"
        }
      ]
    },
    {
      "cell_type" : "markdown",
      "execution_count" : 25,
      "metadata" : {
        "language" : "text"
      },
      "language" : "text",
      "source" : [
        "# Plots both mean and IQR as a background layer\n",
        "\n",
        "\n"
      ],
      "outputs" : [
      ]
    },
    {
      "cell_type" : "code",
      "execution_count" : 26,
      "metadata" : {
        "cell.metadata.exec_info" : {
          "startTs" : 1583875373196,
          "endTs" : 1583875373576
        },
        "language" : "scala"
      },
      "language" : "scala",
      "source" : [
        "Vegas.layered(\"Plots both mean and IQR as a background layer\").\r\n",
        "  withURL(Population).\r\n",
        "  withLayers(\r\n",
        "    Layer().\r\n",
        "      mark(Line).\r\n",
        "      encodeX(\"age\", Ordinal).\r\n",
        "      encodeY(\"people\", aggregate=AggOps.Mean),\r\n",
        "    Layer().\r\n",
        "      mark(Area).\r\n",
        "      encodeX(\"age\", Ordinal).\r\n",
        "      encodeY(\"people\", aggregate=AggOps.Q1).\r\n",
        "      encodeY2(\"people\", aggregate=AggOps.Q3)\r\n",
        "  ).\r\n",
        "  show"
      ],
      "outputs" : [
        {
          "data" : {
            "text/html" : [
              "\n",
              "  <iframe id=\"frame-vegas-8e2ffcf6-c298-45e2-99e4-34d608c7f5d5\" sandbox=\"allow-scripts allow-same-origin\" style=\"border: none; width: 100%\" srcdoc=\"&lt;html&gt;\n",
              "  &lt;head&gt;\n",
              "    &lt;script src=&quot;https://cdn.jsdelivr.net/webjars/org.webjars.bower/d3/3.5.17/d3.min.js&quot; charset=&quot;utf-8&quot;&gt;&lt;/script&gt;\n",
              "&lt;script src=&quot;https://cdn.jsdelivr.net/webjars/org.webjars.bower/vega/2.6.3/vega.min.js&quot; charset=&quot;utf-8&quot;&gt;&lt;/script&gt;\n",
              "&lt;script src=&quot;https://cdn.jsdelivr.net/webjars/org.webjars.bower/vega-lite/1.2.0/vega-lite.min.js&quot; charset=&quot;utf-8&quot;&gt;&lt;/script&gt;\n",
              "&lt;script src=&quot;https://vega.github.io/vega-editor/vendor/vega-embed.js&quot; charset=&quot;utf-8&quot;&gt;&lt;/script&gt;\n",
              "  &lt;/head&gt;\n",
              "  &lt;body&gt;\n",
              " &lt;div id='vegas-8e2ffcf6-c298-45e2-99e4-34d608c7f5d5'&gt;&lt;/div&gt;\n",
              " &lt;script&gt;\n",
              "   var embedSpec = {\n",
              "     mode: &quot;vega-lite&quot;,\n",
              "     spec: {\n",
              "  &quot;layers&quot; : [\n",
              "    {\n",
              "      &quot;mark&quot; : &quot;line&quot;,\n",
              "      &quot;encoding&quot; : {\n",
              "        &quot;x&quot; : {\n",
              "          &quot;field&quot; : &quot;age&quot;,\n",
              "          &quot;type&quot; : &quot;ordinal&quot;\n",
              "        },\n",
              "        &quot;y&quot; : {\n",
              "          &quot;field&quot; : &quot;people&quot;,\n",
              "          &quot;aggregate&quot; : &quot;mean&quot;\n",
              "        }\n",
              "      }\n",
              "    },\n",
              "    {\n",
              "      &quot;mark&quot; : &quot;area&quot;,\n",
              "      &quot;encoding&quot; : {\n",
              "        &quot;x&quot; : {\n",
              "          &quot;field&quot; : &quot;age&quot;,\n",
              "          &quot;type&quot; : &quot;ordinal&quot;\n",
              "        },\n",
              "        &quot;y&quot; : {\n",
              "          &quot;field&quot; : &quot;people&quot;,\n",
              "          &quot;aggregate&quot; : &quot;q1&quot;\n",
              "        },\n",
              "        &quot;y2&quot; : {\n",
              "          &quot;field&quot; : &quot;people&quot;,\n",
              "          &quot;aggregate&quot; : &quot;q3&quot;\n",
              "        }\n",
              "      }\n",
              "    }\n",
              "  ],\n",
              "  &quot;description&quot; : &quot;Plots both mean and IQR as a background layer&quot;,\n",
              "  &quot;data&quot; : {\n",
              "    &quot;url&quot; : &quot;https://vega.github.io/vega-editor/app/data/population.json&quot;\n",
              "  }\n",
              "}\n",
              "   }\n",
              "   vg.embed(&quot;#vegas-8e2ffcf6-c298-45e2-99e4-34d608c7f5d5&quot;, embedSpec, function(error, result) {});\n",
              " &lt;/script&gt;\n",
              "\n",
              "    &lt;/body&gt;\n",
              "&lt;/html&gt;\"></iframe>\n",
              "  <script>\n",
              "    (function() {\n",
              "      function resizeIFrame(el, k) {\n",
              "        var height = el.contentWindow.document.body.scrollHeight || '400'; // Fallback in case of no scroll height\n",
              "        el.style.height = height + 'px';\n",
              "        if (k <= 10) { setTimeout(function() { resizeIFrame(el, k+1) }, 1000 + (k * 250)) };\n",
              "      }\n",
              "      resizeIFrame(document.querySelector('#frame-vegas-8e2ffcf6-c298-45e2-99e4-34d608c7f5d5'), 1);\n",
              "    })(); // IIFE\n",
              "  </script>\n",
              "    "
            ]
          },
          "output_type" : "display_data"
        }
      ]
    },
    {
      "cell_type" : "markdown",
      "execution_count" : 27,
      "metadata" : {
        "language" : "text"
      },
      "language" : "text",
      "source" : [
        "# Plot with legend on the left and a different title\n",
        "\n",
        "\n"
      ],
      "outputs" : [
      ]
    },
    {
      "cell_type" : "code",
      "execution_count" : 28,
      "metadata" : {
        "cell.metadata.exec_info" : {
          "startTs" : 1583875415552,
          "endTs" : 1583875415839
        },
        "language" : "scala"
      },
      "language" : "scala",
      "source" : [
        "Vegas(\"Plot with legend on the left and a different title \").\r\n",
        "  withURL(Cars).\r\n",
        "  mark(Point).\r\n",
        "  encodeY(\"Horsepower\", Quantitative).\r\n",
        "  encodeX(\"Miles_per_Gallon\", Quantitative).\r\n",
        "  encodeColor(field=\"Origin\", dataType=Nominal, legend=Legend(orient = \"left\", title=\"Place of Origin\" )).\r\n",
        "  encodeShape(field=\"Origin\", dataType=Nominal, legend=Legend(orient = \"left\", title=\"Place of Origin\",\r\n",
        "    titleColor=\"red\")).\r\n",
        "  show"
      ],
      "outputs" : [
        {
          "data" : {
            "text/html" : [
              "\n",
              "  <iframe id=\"frame-vegas-d84a6db8-a93d-45d3-bf20-6aa089e0129e\" sandbox=\"allow-scripts allow-same-origin\" style=\"border: none; width: 100%\" srcdoc=\"&lt;html&gt;\n",
              "  &lt;head&gt;\n",
              "    &lt;script src=&quot;https://cdn.jsdelivr.net/webjars/org.webjars.bower/d3/3.5.17/d3.min.js&quot; charset=&quot;utf-8&quot;&gt;&lt;/script&gt;\n",
              "&lt;script src=&quot;https://cdn.jsdelivr.net/webjars/org.webjars.bower/vega/2.6.3/vega.min.js&quot; charset=&quot;utf-8&quot;&gt;&lt;/script&gt;\n",
              "&lt;script src=&quot;https://cdn.jsdelivr.net/webjars/org.webjars.bower/vega-lite/1.2.0/vega-lite.min.js&quot; charset=&quot;utf-8&quot;&gt;&lt;/script&gt;\n",
              "&lt;script src=&quot;https://vega.github.io/vega-editor/vendor/vega-embed.js&quot; charset=&quot;utf-8&quot;&gt;&lt;/script&gt;\n",
              "  &lt;/head&gt;\n",
              "  &lt;body&gt;\n",
              " &lt;div id='vegas-d84a6db8-a93d-45d3-bf20-6aa089e0129e'&gt;&lt;/div&gt;\n",
              " &lt;script&gt;\n",
              "   var embedSpec = {\n",
              "     mode: &quot;vega-lite&quot;,\n",
              "     spec: {\n",
              "  &quot;mark&quot; : &quot;point&quot;,\n",
              "  &quot;encoding&quot; : {\n",
              "    &quot;x&quot; : {\n",
              "      &quot;field&quot; : &quot;Miles_per_Gallon&quot;,\n",
              "      &quot;type&quot; : &quot;quantitative&quot;\n",
              "    },\n",
              "    &quot;y&quot; : {\n",
              "      &quot;field&quot; : &quot;Horsepower&quot;,\n",
              "      &quot;type&quot; : &quot;quantitative&quot;\n",
              "    },\n",
              "    &quot;color&quot; : {\n",
              "      &quot;legend&quot; : {\n",
              "        &quot;title&quot; : &quot;Place of Origin&quot;,\n",
              "        &quot;orient&quot; : &quot;left&quot;\n",
              "      },\n",
              "      &quot;field&quot; : &quot;Origin&quot;,\n",
              "      &quot;type&quot; : &quot;nominal&quot;\n",
              "    },\n",
              "    &quot;shape&quot; : {\n",
              "      &quot;legend&quot; : {\n",
              "        &quot;title&quot; : &quot;Place of Origin&quot;,\n",
              "        &quot;orient&quot; : &quot;left&quot;,\n",
              "        &quot;titleColor&quot; : &quot;red&quot;\n",
              "      },\n",
              "      &quot;field&quot; : &quot;Origin&quot;,\n",
              "      &quot;type&quot; : &quot;nominal&quot;\n",
              "    }\n",
              "  },\n",
              "  &quot;description&quot; : &quot;Plot with legend on the left and a different title &quot;,\n",
              "  &quot;data&quot; : {\n",
              "    &quot;url&quot; : &quot;https://vega.github.io/vega-editor/app/data/cars.json&quot;\n",
              "  }\n",
              "}\n",
              "   }\n",
              "   vg.embed(&quot;#vegas-d84a6db8-a93d-45d3-bf20-6aa089e0129e&quot;, embedSpec, function(error, result) {});\n",
              " &lt;/script&gt;\n",
              "\n",
              "    &lt;/body&gt;\n",
              "&lt;/html&gt;\"></iframe>\n",
              "  <script>\n",
              "    (function() {\n",
              "      function resizeIFrame(el, k) {\n",
              "        var height = el.contentWindow.document.body.scrollHeight || '400'; // Fallback in case of no scroll height\n",
              "        el.style.height = height + 'px';\n",
              "        if (k <= 10) { setTimeout(function() { resizeIFrame(el, k+1) }, 1000 + (k * 250)) };\n",
              "      }\n",
              "      resizeIFrame(document.querySelector('#frame-vegas-d84a6db8-a93d-45d3-bf20-6aa089e0129e'), 1);\n",
              "    })(); // IIFE\n",
              "  </script>\n",
              "    "
            ]
          },
          "output_type" : "display_data"
        }
      ]
    },
    {
      "cell_type" : "markdown",
      "execution_count" : 29,
      "metadata" : {
        "language" : "text"
      },
      "language" : "text",
      "source" : [
        "# Plot to show Binning options\n",
        "\n",
        "\n"
      ],
      "outputs" : [
      ]
    },
    {
      "cell_type" : "code",
      "execution_count" : 30,
      "metadata" : {
        "cell.metadata.exec_info" : {
          "startTs" : 1583875470961,
          "endTs" : 1583875471180
        },
        "language" : "scala"
      },
      "language" : "scala",
      "source" : [
        "Vegas(\"Plot to show Binning options\").\r\n",
        "  withURL(Movies).\r\n",
        "  mark(Bar).\r\n",
        "  encodeX(\"IMDB_Rating\", Quantitative, bin=Bin(step=2.0, maxbins=3.0)).\r\n",
        "  encodeY(field=\"*\", Quantitative, aggregate=AggOps.Count).\r\n",
        "  show"
      ],
      "outputs" : [
        {
          "data" : {
            "text/html" : [
              "\n",
              "  <iframe id=\"frame-vegas-65de5742-6f9b-4ee5-be54-f64a4097b73d\" sandbox=\"allow-scripts allow-same-origin\" style=\"border: none; width: 100%\" srcdoc=\"&lt;html&gt;\n",
              "  &lt;head&gt;\n",
              "    &lt;script src=&quot;https://cdn.jsdelivr.net/webjars/org.webjars.bower/d3/3.5.17/d3.min.js&quot; charset=&quot;utf-8&quot;&gt;&lt;/script&gt;\n",
              "&lt;script src=&quot;https://cdn.jsdelivr.net/webjars/org.webjars.bower/vega/2.6.3/vega.min.js&quot; charset=&quot;utf-8&quot;&gt;&lt;/script&gt;\n",
              "&lt;script src=&quot;https://cdn.jsdelivr.net/webjars/org.webjars.bower/vega-lite/1.2.0/vega-lite.min.js&quot; charset=&quot;utf-8&quot;&gt;&lt;/script&gt;\n",
              "&lt;script src=&quot;https://vega.github.io/vega-editor/vendor/vega-embed.js&quot; charset=&quot;utf-8&quot;&gt;&lt;/script&gt;\n",
              "  &lt;/head&gt;\n",
              "  &lt;body&gt;\n",
              " &lt;div id='vegas-65de5742-6f9b-4ee5-be54-f64a4097b73d'&gt;&lt;/div&gt;\n",
              " &lt;script&gt;\n",
              "   var embedSpec = {\n",
              "     mode: &quot;vega-lite&quot;,\n",
              "     spec: {\n",
              "  &quot;mark&quot; : &quot;bar&quot;,\n",
              "  &quot;encoding&quot; : {\n",
              "    &quot;x&quot; : {\n",
              "      &quot;field&quot; : &quot;IMDB_Rating&quot;,\n",
              "      &quot;type&quot; : &quot;quantitative&quot;,\n",
              "      &quot;bin&quot; : {\n",
              "        &quot;step&quot; : 2.0,\n",
              "        &quot;maxbins&quot; : 3.0\n",
              "      }\n",
              "    },\n",
              "    &quot;y&quot; : {\n",
              "      &quot;field&quot; : &quot;*&quot;,\n",
              "      &quot;type&quot; : &quot;quantitative&quot;,\n",
              "      &quot;aggregate&quot; : &quot;count&quot;\n",
              "    }\n",
              "  },\n",
              "  &quot;description&quot; : &quot;Plot to show Binning options&quot;,\n",
              "  &quot;data&quot; : {\n",
              "    &quot;url&quot; : &quot;https://vega.github.io/vega-editor/app/data/movies.json&quot;\n",
              "  }\n",
              "}\n",
              "   }\n",
              "   vg.embed(&quot;#vegas-65de5742-6f9b-4ee5-be54-f64a4097b73d&quot;, embedSpec, function(error, result) {});\n",
              " &lt;/script&gt;\n",
              "\n",
              "    &lt;/body&gt;\n",
              "&lt;/html&gt;\"></iframe>\n",
              "  <script>\n",
              "    (function() {\n",
              "      function resizeIFrame(el, k) {\n",
              "        var height = el.contentWindow.document.body.scrollHeight || '400'; // Fallback in case of no scroll height\n",
              "        el.style.height = height + 'px';\n",
              "        if (k <= 10) { setTimeout(function() { resizeIFrame(el, k+1) }, 1000 + (k * 250)) };\n",
              "      }\n",
              "      resizeIFrame(document.querySelector('#frame-vegas-65de5742-6f9b-4ee5-be54-f64a4097b73d'), 1);\n",
              "    })(); // IIFE\n",
              "  </script>\n",
              "    "
            ]
          },
          "output_type" : "display_data"
        }
      ]
    },
    {
      "cell_type" : "markdown",
      "execution_count" : 31,
      "metadata" : {
        "language" : "text"
      },
      "language" : "text",
      "source" : [
        "# Plot to show Binning options\n",
        "\n",
        "\n"
      ],
      "outputs" : [
      ]
    },
    {
      "cell_type" : "code",
      "execution_count" : 32,
      "metadata" : {
        "cell.metadata.exec_info" : {
          "startTs" : 1583875523180,
          "endTs" : 1583875523437
        },
        "language" : "scala"
      },
      "language" : "scala",
      "source" : [
        "Vegas(\"Plot to show Binning options\").\r\n",
        "  withURL(Movies).\r\n",
        "  mark(Bar).\r\n",
        "  encodeX(\"Worldwide_Gross\", Quant, bin=Bin(maxbins=20.0), sortOrder=SortOrder.Desc).\r\n",
        "  encodeY(field=\"*\", Quant, aggregate=AggOps.Count).\r\n",
        "  show"
      ],
      "outputs" : [
        {
          "data" : {
            "text/html" : [
              "\n",
              "  <iframe id=\"frame-vegas-77ac7f44-0ad0-40e6-a672-fff759e94d51\" sandbox=\"allow-scripts allow-same-origin\" style=\"border: none; width: 100%\" srcdoc=\"&lt;html&gt;\n",
              "  &lt;head&gt;\n",
              "    &lt;script src=&quot;https://cdn.jsdelivr.net/webjars/org.webjars.bower/d3/3.5.17/d3.min.js&quot; charset=&quot;utf-8&quot;&gt;&lt;/script&gt;\n",
              "&lt;script src=&quot;https://cdn.jsdelivr.net/webjars/org.webjars.bower/vega/2.6.3/vega.min.js&quot; charset=&quot;utf-8&quot;&gt;&lt;/script&gt;\n",
              "&lt;script src=&quot;https://cdn.jsdelivr.net/webjars/org.webjars.bower/vega-lite/1.2.0/vega-lite.min.js&quot; charset=&quot;utf-8&quot;&gt;&lt;/script&gt;\n",
              "&lt;script src=&quot;https://vega.github.io/vega-editor/vendor/vega-embed.js&quot; charset=&quot;utf-8&quot;&gt;&lt;/script&gt;\n",
              "  &lt;/head&gt;\n",
              "  &lt;body&gt;\n",
              " &lt;div id='vegas-77ac7f44-0ad0-40e6-a672-fff759e94d51'&gt;&lt;/div&gt;\n",
              " &lt;script&gt;\n",
              "   var embedSpec = {\n",
              "     mode: &quot;vega-lite&quot;,\n",
              "     spec: {\n",
              "  &quot;mark&quot; : &quot;bar&quot;,\n",
              "  &quot;encoding&quot; : {\n",
              "    &quot;x&quot; : {\n",
              "      &quot;sort&quot; : &quot;descending&quot;,\n",
              "      &quot;field&quot; : &quot;Worldwide_Gross&quot;,\n",
              "      &quot;type&quot; : &quot;quantitative&quot;,\n",
              "      &quot;bin&quot; : {\n",
              "        &quot;maxbins&quot; : 20.0\n",
              "      }\n",
              "    },\n",
              "    &quot;y&quot; : {\n",
              "      &quot;field&quot; : &quot;*&quot;,\n",
              "      &quot;type&quot; : &quot;quantitative&quot;,\n",
              "      &quot;aggregate&quot; : &quot;count&quot;\n",
              "    }\n",
              "  },\n",
              "  &quot;description&quot; : &quot;Plot to show Binning options&quot;,\n",
              "  &quot;data&quot; : {\n",
              "    &quot;url&quot; : &quot;https://vega.github.io/vega-editor/app/data/movies.json&quot;\n",
              "  }\n",
              "}\n",
              "   }\n",
              "   vg.embed(&quot;#vegas-77ac7f44-0ad0-40e6-a672-fff759e94d51&quot;, embedSpec, function(error, result) {});\n",
              " &lt;/script&gt;\n",
              "\n",
              "    &lt;/body&gt;\n",
              "&lt;/html&gt;\"></iframe>\n",
              "  <script>\n",
              "    (function() {\n",
              "      function resizeIFrame(el, k) {\n",
              "        var height = el.contentWindow.document.body.scrollHeight || '400'; // Fallback in case of no scroll height\n",
              "        el.style.height = height + 'px';\n",
              "        if (k <= 10) { setTimeout(function() { resizeIFrame(el, k+1) }, 1000 + (k * 250)) };\n",
              "      }\n",
              "      resizeIFrame(document.querySelector('#frame-vegas-77ac7f44-0ad0-40e6-a672-fff759e94d51'), 1);\n",
              "    })(); // IIFE\n",
              "  </script>\n",
              "    "
            ]
          },
          "output_type" : "display_data"
        }
      ]
    },
    {
      "cell_type" : "markdown",
      "execution_count" : 33,
      "metadata" : {
        "language" : "text"
      },
      "language" : "text",
      "source" : [
        "# Plot to show usage of encodeText\n",
        "\n",
        "\n"
      ],
      "outputs" : [
      ]
    },
    {
      "cell_type" : "code",
      "execution_count" : 34,
      "metadata" : {
        "cell.metadata.exec_info" : {
          "startTs" : 1583875560828,
          "endTs" : 1583875561146
        },
        "language" : "scala"
      },
      "language" : "scala",
      "source" : [
        "Vegas(\"Plot to show usage of encodeText\").\r\n",
        "  withURL(Cars).\r\n",
        "  addTransform(\"OriginInitial\", \"datum.Origin[0]\").\r\n",
        "  mark(Text).\r\n",
        "  encodeX(\"Horsepower\", Quantitative).\r\n",
        "  encodeY(\"Miles_per_Gallon\", Quantitative).\r\n",
        "  encodeColor(field=\"Origin\", dataType= Nominal).\r\n",
        "  encodeText(field=\"OriginInitial\", dataType= Nominal).\r\n",
        "  show"
      ],
      "outputs" : [
        {
          "data" : {
            "text/html" : [
              "\n",
              "  <iframe id=\"frame-vegas-43f0d2d3-3b37-4a8f-9847-2194fe7e3a95\" sandbox=\"allow-scripts allow-same-origin\" style=\"border: none; width: 100%\" srcdoc=\"&lt;html&gt;\n",
              "  &lt;head&gt;\n",
              "    &lt;script src=&quot;https://cdn.jsdelivr.net/webjars/org.webjars.bower/d3/3.5.17/d3.min.js&quot; charset=&quot;utf-8&quot;&gt;&lt;/script&gt;\n",
              "&lt;script src=&quot;https://cdn.jsdelivr.net/webjars/org.webjars.bower/vega/2.6.3/vega.min.js&quot; charset=&quot;utf-8&quot;&gt;&lt;/script&gt;\n",
              "&lt;script src=&quot;https://cdn.jsdelivr.net/webjars/org.webjars.bower/vega-lite/1.2.0/vega-lite.min.js&quot; charset=&quot;utf-8&quot;&gt;&lt;/script&gt;\n",
              "&lt;script src=&quot;https://vega.github.io/vega-editor/vendor/vega-embed.js&quot; charset=&quot;utf-8&quot;&gt;&lt;/script&gt;\n",
              "  &lt;/head&gt;\n",
              "  &lt;body&gt;\n",
              " &lt;div id='vegas-43f0d2d3-3b37-4a8f-9847-2194fe7e3a95'&gt;&lt;/div&gt;\n",
              " &lt;script&gt;\n",
              "   var embedSpec = {\n",
              "     mode: &quot;vega-lite&quot;,\n",
              "     spec: {\n",
              "  &quot;mark&quot; : &quot;text&quot;,\n",
              "  &quot;encoding&quot; : {\n",
              "    &quot;x&quot; : {\n",
              "      &quot;field&quot; : &quot;Horsepower&quot;,\n",
              "      &quot;type&quot; : &quot;quantitative&quot;\n",
              "    },\n",
              "    &quot;y&quot; : {\n",
              "      &quot;field&quot; : &quot;Miles_per_Gallon&quot;,\n",
              "      &quot;type&quot; : &quot;quantitative&quot;\n",
              "    },\n",
              "    &quot;color&quot; : {\n",
              "      &quot;field&quot; : &quot;Origin&quot;,\n",
              "      &quot;type&quot; : &quot;nominal&quot;\n",
              "    },\n",
              "    &quot;text&quot; : {\n",
              "      &quot;field&quot; : &quot;OriginInitial&quot;,\n",
              "      &quot;type&quot; : &quot;nominal&quot;\n",
              "    }\n",
              "  },\n",
              "  &quot;description&quot; : &quot;Plot to show usage of encodeText&quot;,\n",
              "  &quot;data&quot; : {\n",
              "    &quot;url&quot; : &quot;https://vega.github.io/vega-editor/app/data/cars.json&quot;\n",
              "  },\n",
              "  &quot;transform&quot; : {\n",
              "    &quot;calculate&quot; : [\n",
              "      {\n",
              "        &quot;field&quot; : &quot;OriginInitial&quot;,\n",
              "        &quot;expr&quot; : &quot;datum.Origin[0]&quot;\n",
              "      }\n",
              "    ]\n",
              "  }\n",
              "}\n",
              "   }\n",
              "   vg.embed(&quot;#vegas-43f0d2d3-3b37-4a8f-9847-2194fe7e3a95&quot;, embedSpec, function(error, result) {});\n",
              " &lt;/script&gt;\n",
              "\n",
              "    &lt;/body&gt;\n",
              "&lt;/html&gt;\"></iframe>\n",
              "  <script>\n",
              "    (function() {\n",
              "      function resizeIFrame(el, k) {\n",
              "        var height = el.contentWindow.document.body.scrollHeight || '400'; // Fallback in case of no scroll height\n",
              "        el.style.height = height + 'px';\n",
              "        if (k <= 10) { setTimeout(function() { resizeIFrame(el, k+1) }, 1000 + (k * 250)) };\n",
              "      }\n",
              "      resizeIFrame(document.querySelector('#frame-vegas-43f0d2d3-3b37-4a8f-9847-2194fe7e3a95'), 1);\n",
              "    })(); // IIFE\n",
              "  </script>\n",
              "    "
            ]
          },
          "output_type" : "display_data"
        }
      ]
    }
  ]
}